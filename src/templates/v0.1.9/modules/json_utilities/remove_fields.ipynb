{
 "cells": [
  {
   "cell_type": "markdown",
   "metadata": {},
   "source": [
    "# Remove Fields\n",
    "\n",
    "This notebook will remove specified field from all files in the `json` folder. It is intended primarily for creating sample data sets for testing, but we could consider documenting it fully and keeping it in the release version of the module."
   ]
  },
  {
   "cell_type": "markdown",
   "metadata": {},
   "source": [
    "## Configuration\n",
    "\n",
    "Configure a list of fields to remove. By default, the folder containing the json files is the project's `json` directory, but you can configure another folder (relative to the project root). Errors will be logged to a file saved with the name you configure."
   ]
  },
  {
   "cell_type": "code",
   "execution_count": null,
   "metadata": {},
   "outputs": [],
   "source": [
    "# Configuration\n",
    "fields_to_remove = ['features', 'bag_of_words']\n",
    "json_dir = 'project_data/json' # Relative to the project directory\n",
    "log_file = 'field_removal_log.txt'"
   ]
  },
  {
   "cell_type": "markdown",
   "metadata": {},
   "source": [
    "## Setup"
   ]
  },
  {
   "cell_type": "code",
   "execution_count": null,
   "metadata": {},
   "outputs": [],
   "source": [
    "# Python imports\n",
    "import json\n",
    "import os\n",
    "import ipywidgets\n",
    "from IPython.display import display, HTML\n",
    "from ipywidgets import HBox, IntProgress, Label\n",
    "from pathlib import Path    \n",
    "from time import time\n",
    "\n",
    "# Get the project directory\n",
    "current_dir = %pwd\n",
    "project_dir = str(Path(current_dir).parent.parent)\n",
    "json_dir = os.path.join(project_dir, json_dir)\n",
    "\n",
    "# Job class\n",
    "class Job():\n",
    "    \"\"\"Create a job object.\"\"\"\n",
    "\n",
    "    def __init__(self, json_dir='project_data/json', fields_to_remove=['features', 'bag_of_words'],\n",
    "                 log_file='field_removal_log.txt'):\n",
    "        \"\"\"Initialise the job object.\"\"\"\n",
    "        self.json_dir = json_dir\n",
    "        self.fields_to_remove = fields_to_remove\n",
    "        self.log_file = log_file\n",
    "        self.file_list = os.listdir(json_dir)\n",
    "        self.num_files = len(self.file_list)\n",
    "        self.this_iter = 0\n",
    "\n",
    "    def log_error(self, filename, error_type='read'):\n",
    "        \"\"\"Save an error to the log file.\"\"\"\n",
    "        with open(log_file, 'a') as f:\n",
    "            f.write(filename + ' - ' + error_type + ' error\\n')\n",
    "\n",
    "    def read_file(self, filename):\n",
    "        \"\"\"Read a json doc from file into a dict.\"\"\"\n",
    "        try:\n",
    "            with open(os.path.join(self.json_dir, filename), 'r') as f:\n",
    "                return json.loads(f.read())\n",
    "        except (IOError, ValueError):\n",
    "            self.log_error(filename, error_type='read')\n",
    "            return None\n",
    "\n",
    "    def remove_fields(self, doc):\n",
    "        \"\"\" Remove fields from a dict if they exist.\"\"\"\n",
    "        for field in self.fields_to_remove:\n",
    "            if field in doc:\n",
    "                del doc[field]\n",
    "        return doc\n",
    "\n",
    "    def write_file(self, doc, filename):\n",
    "        \"\"\"Write a dict to a json doc file.\"\"\"\n",
    "        try:\n",
    "            with open(os.path.join(self.json_dir, filename), 'w') as f:\n",
    "                f.write(json.dumps(doc))\n",
    "        except IOError:\n",
    "            self.log_error(filename, error_type='write')\n",
    "\n",
    "    def run(self):\n",
    "        \"\"\"Run the script.\"\"\"\n",
    "        timer = Timer()\n",
    "        pbar = IntProgress(min=0, max=100) # instantiate the progress bar\n",
    "        percent = ipywidgets.HTML(value='0%')\n",
    "        display(HBox([Label('Removing fields...'), pbar, percent]))\n",
    "        for file in self.file_list:\n",
    "            doc = self.read_file(file)\n",
    "            doc = self.remove_fields(doc)\n",
    "            self.write_file(doc, file)\n",
    "            progress = int(100. * self.this_iter/self.num_files)\n",
    "            pbar.value = progress\n",
    "            percent.value = '{0}%'.format(progress)\n",
    "            self.this_iter += 1\n",
    "        pbar.value = 100\n",
    "        percent.value = '100%'\n",
    "        display(HTML('<p style=\"color: green;\">Done!</p>'))\n",
    "        display('Time elapsed: %s' % timer.get_time_elapsed())\n",
    "\n",
    "\n",
    "# Timer class\n",
    "class Timer:\n",
    "    \"\"\"Create a timer object.\"\"\"\n",
    "\n",
    "    def __init__(self):\n",
    "        \"\"\"Initialise the timer object.\"\"\"\n",
    "        self.start = time()\n",
    "\n",
    "    def get_time_elapsed(self):\n",
    "        \"\"\"Get the elapsed time and format it as hours, minutes, and seconds.\"\"\"\n",
    "        end = time()\n",
    "        m, s = divmod(end - self.start, 60)\n",
    "        h, m = divmod(m, 60)\n",
    "        time_str = \"%02d:%02d:%02d\" % (h, m, s)\n",
    "        return time_str\n",
    "    \n",
    "display(HTML('<p style=\"color: green;\">Setup complete. Run the next cell to remove the json fields.</p>'))"
   ]
  },
  {
   "cell_type": "markdown",
   "metadata": {},
   "source": [
    "## Remove Fields"
   ]
  },
  {
   "cell_type": "code",
   "execution_count": null,
   "metadata": {},
   "outputs": [],
   "source": [
    "# Run the script\n",
    "job = Job(json_dir, fields_to_remove)\n",
    "job.run()"
   ]
  }
 ],
 "metadata": {
  "kernelspec": {
   "display_name": "Python 3",
   "language": "python",
   "name": "python3"
  },
  "language_info": {
   "codemirror_mode": {
    "name": "ipython",
    "version": 3
   },
   "file_extension": ".py",
   "mimetype": "text/x-python",
   "name": "python",
   "nbconvert_exporter": "python",
   "pygments_lexer": "ipython3",
   "version": "3.6.8"
  }
 },
 "nbformat": 4,
 "nbformat_minor": 2
}
