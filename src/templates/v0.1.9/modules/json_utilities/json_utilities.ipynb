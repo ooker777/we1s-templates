{
 "cells": [
  {
   "cell_type": "markdown",
   "metadata": {},
   "source": [
    "# JSON Utilties\n",
    "\n",
    "This notebook provides a method of accessing the contents of a project's `json` folder. These folders can be quite large, and they will cause the browser to freeze if they are opened using the Jupyter notebook file browser. This notebook creates a `Documents` object with which you can call methods that list or read the contents of the files in the `json` folder. It also allows you to perform database-like queries on the contents to filter your results and to export the results to a zip archive.\n",
    "\n",
    "### Info\n",
    "\n",
    "__authors__    = 'Scott Kleinman'  \n",
    "__copyright__ = 'copyright 2020, The WE1S Project'  \n",
    "__license__   = 'MIT'  \n",
    "__version__   = '1.0'  \n",
    "__email__     = 'scott.kleinman@csun.edu'"
   ]
  },
  {
   "cell_type": "markdown",
   "metadata": {},
   "source": [
    "## Setup"
   ]
  },
  {
   "cell_type": "code",
   "execution_count": null,
   "metadata": {},
   "outputs": [],
   "source": [
    "# Import the Documents class\n",
    "%run scripts/json_utilities.py\n",
    "\n",
    "# Python imports\n",
    "from pathlib import Path \n",
    "from IPython.display import display, HTML\n",
    "\n",
    "# Get the project directory\n",
    "current_dir = %pwd\n",
    "project_dir = str(Path(current_dir).parent.parent)\n",
    "\n",
    "display(HTML('<p style=\"color: green;\">Setup complete.</p>'))"
   ]
  },
  {
   "cell_type": "markdown",
   "metadata": {},
   "source": [
    "## Create a `Documents` Object\n",
    "\n",
    "The cell below shows you how to create a `Documents` object and use it to list or read files.\n",
    "\n",
    "The `get_file_list()` methods can optionally take `start` and `end` values as shown in the example below."
   ]
  },
  {
   "cell_type": "code",
   "execution_count": null,
   "metadata": {},
   "outputs": [],
   "source": [
    "# Create a Documents object for the project folder\n",
    "docs = Documents(project_dir)\n",
    "\n",
    "# Get the number of documents\n",
    "num_docs = docs.count\n",
    "display(HTML('<p><strong>Number of documents:</strong> {0}</p> '.format(num_docs)))\n",
    "\n",
    "# Get a list of the first 5 documents in the json folder\n",
    "result = docs.get_file_list(0, 5)\n",
    "display(HTML('<p><strong>First Five Files:</strong></p>'))\n",
    "display(HTML('<ul>'))\n",
    "for file in result:\n",
    "    display(HTML('<li>{0}</li>'.format(file)))\n",
    "display(HTML('</ul>'))\n",
    "\n",
    "# Count the number of documents in a result\n",
    "num_results = docs.count_docs(result)\n",
    "display(HTML('<p><strong>Number of documents in result:</strong> {0}</p> '.format(num_results)))"
   ]
  },
  {
   "cell_type": "markdown",
   "metadata": {},
   "source": [
    "### Preview a Document\n",
    "\n",
    "To preview a document, run the cell below after configuring the `filename` (just the filename &mdash; the path is assumed to be the project's `json` folder) and the `preview_length` (number of characters to display)."
   ]
  },
  {
   "cell_type": "code",
   "execution_count": null,
   "metadata": {},
   "outputs": [],
   "source": [
    "# Configure filename\n",
    "filename        = ''\n",
    "preview_length  = 300\n",
    "\n",
    "# Read a document by filename\n",
    "doc = docs.read(filename)\n",
    "display(HTML('<p><strong>First 300 characters of the document:</strong></p>'))\n",
    "print(doc['content'][0:preview_length] + '...')"
   ]
  },
  {
   "cell_type": "markdown",
   "metadata": {},
   "source": [
    "## View Metadata Fields (Optional)\n",
    "\n",
    "If you wish to perform a query on your documents, it can be helpful to know what metadata fields are available. The cell below will read the first 100 documents and extract the keys for each metadata field. Note that listed keys may not be available in all documents. If you think that your metadata is very inconsistent, you may want to run `docs.get_metadata_keys()` without start and end values. However, this can take a long time, so it is not recommended unless you have reason to think that there are large discrepancies across your collection.\n",
    "\n",
    "It is also possible to get the keys for a specific file with `docs.get_metadata_keys(filelist=['file1', 'file2', etc.])`. If you have already run something like `result = docs.get_file_list(0, 5)`, you can simply run `docs.get_metadata_keys(filelist=result)`."
   ]
  },
  {
   "cell_type": "code",
   "execution_count": null,
   "metadata": {},
   "outputs": [],
   "source": [
    "fields = docs.get_metadata_keys(0, 100)\n",
    "print(fields)"
   ]
  },
  {
   "cell_type": "markdown",
   "metadata": {},
   "source": [
    "You can generate a table of your documents with `get_table()`. It takes a list of files and a list of fields as its arguments, as in the example below. Columns can be re-ordered, sorted, and filtered. However, it is recommended that you only supply a small number of columns. The bigger the table, the longer the lag time when you scroll."
   ]
  },
  {
   "cell_type": "code",
   "execution_count": null,
   "metadata": {},
   "outputs": [],
   "source": [
    "# Configure columns\n",
    "columns = [] # E.g. ['name', 'pub_date']\n",
    "\n",
    "file_list = docs.get_file_list()\n",
    "table = docs.get_table(file_list, columns)\n",
    "table"
   ]
  },
  {
   "cell_type": "markdown",
   "metadata": {},
   "source": [
    "If you wish to save the table after you have sorted and/or filtered it, set the `filename` in the cell below and run the cell."
   ]
  },
  {
   "cell_type": "code",
   "execution_count": null,
   "metadata": {},
   "outputs": [],
   "source": [
    "# Configuration\n",
    "filename = 'table.csv'\n",
    "\n",
    "# Save the table\n",
    "table.get_changed_df().to_csv(filename)"
   ]
  },
  {
   "cell_type": "markdown",
   "metadata": {},
   "source": [
    "## Performing Queries\n",
    "\n",
    "Although many questions about your data can be answered by working with the table above, sometimes you may need to perform more  sophisticated database-like queries to filter the data in your project's json folder. The cell below provide an interface for performing these queries.\n",
    "\n",
    "A basic query is given in the form of a tuple with the syntax `(fieldname, operator, value)`. The `fieldname` is the name of the metadata field you wish to search. The `value` is the value you are looking for in the field, and the `operator` is the method by which you will evaluate the value. Here are the possible operators: `<`, `<=`, `=` (or `==`), `!=` (meaning \"not equal to\"), `>`, `>=`, `contains`. The last will match any value anywhere in the field. For greater power, you can use `regex` as the `operator` and a regex pattern as the `value`.\n",
    "\n",
    "**Important:** The `fieldname` and `operator` must be enclosed in single quotes. The `value` must also be single quotes unless it is a number or Boolean (`True` or `False`).\n",
    "\n",
    "The `find()` method takes three arguments: a list of filenames, a query, and, optionally, a Boolean `lower_case` value. If `lower_case=True` the `value` data will be converted to lower case before it is evaluated. The default is `False`.\n",
    "\n",
    "In the cell below, we will get a list of the first 5 files (to keep things quick) and search for the ones that contain \"Politics\" in the document's `name` field.\n",
    "\n",
    "Note: There is a built-in timer class that can be used to time queries of long file lists. Its use is illustrated in the cell below, but it can be used to time any of the methods."
   ]
  },
  {
   "cell_type": "code",
   "execution_count": null,
   "metadata": {},
   "outputs": [],
   "source": [
    "# Find all docs where the name contains Politics\n",
    "file_list = docs.get_file_list(0, 5)\n",
    "timer = Timer()\n",
    "result = docs.find(file_list, ('name',  'contains', 'Politics'))\n",
    "print(result)\n",
    "print('Time elapsed: %s' % timer.get_time_elapsed())"
   ]
  },
  {
   "cell_type": "markdown",
   "metadata": {},
   "source": [
    "## Performing Multiple Queries\n",
    "\n",
    "You can pass multiple queries to the `find()` method by using a list of tuples. As you can see from the example below. The result will be every document that matches any of the queries in the list."
   ]
  },
  {
   "cell_type": "code",
   "execution_count": null,
   "metadata": {},
   "outputs": [],
   "source": [
    "result = docs.find(file_list, [('name', 'contains', 'Politics'), ('name', 'contains', 'opinion')])\n",
    "print(result)"
   ]
  },
  {
   "cell_type": "markdown",
   "metadata": {},
   "source": [
    "## Adding Boolean Logic\n",
    "\n",
    "It is possible to add more complex Boolean logic by passing a dictionary as the query with `'and'` or `'or'` as the key. The value should be a list of one or more tuples. "
   ]
  },
  {
   "cell_type": "markdown",
   "metadata": {},
   "source": [
    "#### Example with `and`"
   ]
  },
  {
   "cell_type": "code",
   "execution_count": null,
   "metadata": {},
   "outputs": [],
   "source": [
    "result = docs.find(file_list, {'and': [('name', 'contains', 'Politics'), ('name', 'contains', 'opinion')]})\n",
    "print(result)"
   ]
  },
  {
   "cell_type": "markdown",
   "metadata": {},
   "source": [
    "#### Example with `or`"
   ]
  },
  {
   "cell_type": "code",
   "execution_count": null,
   "metadata": {},
   "outputs": [],
   "source": [
    "result = docs.find(file_list, {'or': [('name', 'contains', 'Politics'), ('name', 'contains', 'opinion')]})\n",
    "print(result)"
   ]
  },
  {
   "cell_type": "markdown",
   "metadata": {},
   "source": [
    "#### You can provide a list of dictionaries."
   ]
  },
  {
   "cell_type": "code",
   "execution_count": null,
   "metadata": {},
   "outputs": [],
   "source": [
    "result = docs.find(file_list, [\n",
    "    {'and': [('name', 'contains', 'Politics'), ('name', 'contains', 'opinion')]},\n",
    "    {'or': [('name', 'contains', 'Jump')]},\n",
    "])\n",
    "print(result)"
   ]
  },
  {
   "cell_type": "markdown",
   "metadata": {},
   "source": [
    "## Exporting the Results of a Query\n",
    "\n",
    "You can save the documents found by your query to a zip file with the `export()` method. It takes a list of filenames and a path where you wish to save the zip file. A filename is sufficient if you wish to save it in the current folder.\n",
    "\n",
    "The `export()` method takes an optional `text_only` argument. Setting `text_only=True` will export only the `content` fields as plain text files.\n",
    "\n",
    "Here is an example in which you create a `Documents` object, get a file list, find files in the list that match your query, and export the results to a zip archive.\n",
    "\n",
    "The timer class is automatically applied to exports."
   ]
  },
  {
   "cell_type": "code",
   "execution_count": null,
   "metadata": {},
   "outputs": [],
   "source": [
    "docs = Documents(project_dir)\n",
    "file_list = docs.get_file_list(0, 5)\n",
    "result = docs.find(file_list,\n",
    "    [\n",
    "        ('name', 'contains', 'Politics'),\n",
    "        ('name', 'contains', 'opinion')\n",
    "    ]\n",
    ")\n",
    "docs.export(result, zip_filepath='export.zip')"
   ]
  }
 ],
 "metadata": {
  "kernelspec": {
   "display_name": "Python 3",
   "language": "python",
   "name": "python3"
  },
  "language_info": {
   "codemirror_mode": {
    "name": "ipython",
    "version": 3
   },
   "file_extension": ".py",
   "mimetype": "text/x-python",
   "name": "python",
   "nbconvert_exporter": "python",
   "pygments_lexer": "ipython3",
   "version": "3.6.8"
  }
 },
 "nbformat": 4,
 "nbformat_minor": 2
}
