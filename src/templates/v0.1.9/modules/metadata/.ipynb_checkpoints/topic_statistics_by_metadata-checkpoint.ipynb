{
 "cells": [
  {
   "cell_type": "markdown",
   "metadata": {},
   "source": [
    "# Topic Statistics by Metadata\n",
    "\n",
    "This notebook extracts information form a model's `topic-docs.txt` file and combines it with the information in the documents' metadata fields to provide counts of the number of documents associated with specific metadata fields. Since MALLET automatically selects the top 100 documents in each topic, this is the basis for the data. The results can be viewed in pandas dataframes and saved to CSV files.\n",
    "\n",
    "The results may be visualised in a static bar chart (stacked or unstacked) or an interactive plotly bar chart for any metadata field. The visusalisations may be saved to static PNG files.\n",
    "\n",
    "### INFO\n",
    "\n",
    "__author__    = 'Scott Kleinman'  \n",
    "__copyright__ = 'copyright 2020, The WE1S Project'  \n",
    "__license__   = 'MIT'  \n",
    "__version__   = '2.5'  \n",
    "__email__     = 'scott.kleinman@csun.edu'"
   ]
  },
  {
   "cell_type": "markdown",
   "metadata": {},
   "source": [
    "## Settings"
   ]
  },
  {
   "cell_type": "code",
   "execution_count": null,
   "metadata": {},
   "outputs": [],
   "source": [
    "# Python imports\n",
    "from IPython.display import display, HTML\n",
    "from pathlib import Path\n",
    "\n",
    "# Get paths\n",
    "current_dir                = %pwd\n",
    "project_dir                = str(Path(current_dir).parent.parent)\n",
    "data_dir                   = project_dir + '/project_data'\n",
    "model_dir                  = data_dir + '/models'\n",
    "json_dir                   = data_dir + '/json'\n",
    "topic_weights_script_path  = current_dir + '/' + 'scripts/topic_stats.py'\n",
    "topic_name                 = 'topic'\n",
    "\n",
    "# Import scripts\n",
    "%run {topic_weights_script_path}\n",
    "\n",
    "# Output message\n",
    "display(HTML('<p style=\"color:green;font-weight:bold;\">Setup complete. Please set the configuration values in the next cell.</p>'))"
   ]
  },
  {
   "cell_type": "markdown",
   "metadata": {},
   "source": [
    "## Configuration\n",
    "\n",
    "Select **one** model to explore. **Please run the next cell regardless of whether you change anything.**\n",
    "\n",
    "If you are unsure of the name of your model, navigate to the `your_project_name/project_data/models` directory in your project, and choose the name of one of the subdirectories in that folder. Each subdirectory should be called `topicsn1`, where `n1` is the number of topics you chose to model, for example: `selection = 'topics100'`. Please follow this format exactly.\n",
    "\n",
    "**In most cases, you should not need to change the `data_path` and `from_file` configurations.** The `data_path` variable specifies the folder where the notebook's assets will be saved. Some cells below attempt to load assets from this data folder so that you do not need to re-run procedures if you have already run the cell once. If for some reason you wish to bypass loading data from a saved file, set `from_file=False` in the cell's configuration section."
   ]
  },
  {
   "cell_type": "code",
   "execution_count": null,
   "metadata": {},
   "outputs": [],
   "source": [
    "selection   = '' # e.g. 'topics25'\n",
    "data_path  = 'data'\n",
    "from_file   = True\n",
    "\n",
    "# Output message\n",
    "display(HTML('<p style=\"color:green;font-weight:bold;\">Configuration complete.</p>'))"
   ]
  },
  {
   "cell_type": "markdown",
   "metadata": {},
   "source": [
    "## Read Topic-Docs File"
   ]
  },
  {
   "cell_type": "code",
   "execution_count": null,
   "metadata": {},
   "outputs": [],
   "source": [
    "df = pd.read_csv(os.path.join(model_dir, selection + '/' + selection.replace('topics', 'topic-docs') + '.txt'), sep=' ').drop('...', axis=1)\n",
    "topics = df['#topic'].values.tolist()\n",
    "topics = [int(i) + 1 for i in topics]\n",
    "topics = pd.DataFrame(topics, columns=['topic'])\n",
    "df = pd.concat([topics, df], axis=1)\n",
    "df.columns = ['#topic', 'delete', 'doc', 'name', 'proportion']\n",
    "df = df.drop(columns=['delete'])\n",
    "to_qgrid(df)"
   ]
  },
  {
   "cell_type": "markdown",
   "metadata": {},
   "source": [
    "## Export Data from Top Documents (Optional)\n",
    "\n",
    "Run the next cell to export the contents of the top documents to plain text files. Before running the cell, configure the `save_path` with the path to the directory where you want to save the text files. If `topic_num` is set to `All`, the content of all documents will be exported. If you set it to a topic number, only the documents associated with that topic will be exported."
   ]
  },
  {
   "cell_type": "code",
   "execution_count": null,
   "metadata": {},
   "outputs": [],
   "source": [
    "# Configuration\n",
    "topic_num = '1' # Make sure to keep the quotation marks\n",
    "save_path = '' #'data' # Path to save directory -- leave as '' for the current directory\n",
    "\n",
    "# Start the export\n",
    "start_export(df, json_dir, topic_num=topic_num, save_path=save_path)"
   ]
  },
  {
   "cell_type": "markdown",
   "metadata": {},
   "source": [
    "## Gather Collection Metadata\n",
    "\n",
    "The cell below gathers metadata for a list of JSON fields from the documents in the collection. Before running the cell, configure a list of metadata fields to collect using the `fields` cell.\n",
    "\n",
    "In the returned dataframe (called `topic_docs_metadata`), tag attributes which exist but without subattributes have values of `1`; missing tag attributes have values of `0`. Click the second cell below to display the dataframe.\n",
    "\n",
    "Note: This cell can take some time to run. If you have already run it once, it should read the metadata from a saved file. Set `from_file=False` to re-generate the data."
   ]
  },
  {
   "cell_type": "code",
   "execution_count": null,
   "metadata": {},
   "outputs": [],
   "source": [
    "# Configuration\n",
    "fields     = [] # The metadata fields to collect from JSON files, e.g. ['tags']\n",
    "from_file  = True # Set to false if you want the script to ignore previously created files\n",
    "\n",
    "# Read the json files, get the metadata, and combine it with the topic-doc proportions\n",
    "display(HTML('<p>Getting metadata...</p>'))\n",
    "try:\n",
    "    metadata = get_metadata(df, fields, selection, json_dir, from_file=from_file, data_path=data_path)\n",
    "    topic_docs_metadata = pd.concat([df, metadata], axis=1)\n",
    "    table = to_qgrid(topic_docs_metadata)\n",
    "    display(HTML('<p style=\"color: green;\">Done!</p>'))\n",
    "except:\n",
    "    display(HTML('<p style=\"color: red;\">An error occurred. Please double-check your configuration.</p>'))"
   ]
  },
  {
   "cell_type": "markdown",
   "metadata": {},
   "source": [
    "### Display the Dataframe\n",
    "\n",
    "You can drag column boundaries to change their width or column labels to re-order the columns. To sort the columns, click the column label (and click again to sort in reverse order). Click the filter icon to filter your data by column values."
   ]
  },
  {
   "cell_type": "code",
   "execution_count": null,
   "metadata": {},
   "outputs": [],
   "source": [
    "table"
   ]
  },
  {
   "cell_type": "markdown",
   "metadata": {},
   "source": [
    "## Save to CSV\n",
    "\n",
    "If you wish to save a copy of the output to a CSV file, set `save_path` to a relative path to the location where you wish to save the file. The path should include the filename. It is recommended that you include a topic number in the filename so that you do not accidentally overwrite a file from a different model.\n",
    "\n",
    "By default, the CSV will reflect the table above _after_ any modifications you make by filtering or sorting. If you wish to use the original table, set `use_original=True`."
   ]
  },
  {
   "cell_type": "code",
   "execution_count": null,
   "metadata": {},
   "outputs": [],
   "source": [
    "# Configuration\n",
    "save_path     = '' # Filename with relative path where CSV file will be saved\n",
    "use_original  = False\n",
    "\n",
    "# Save the file\n",
    "save_to_csv(table, save_path, use_original)"
   ]
  },
  {
   "cell_type": "markdown",
   "metadata": {},
   "source": [
    "## Get Counts by Column Values\n",
    "\n",
    "This cell calculates document counts for each topic by column value using the `topic_docs_metadata` dataframe. Before running the cell, make sure that you configure the `column` variable with the name of the dataframe column from which you wish to count values. \n",
    "\n",
    "If you wish to save a copy of the output to a CSV file, set `save_path` to a relative path to the location where you wish to save the file. The path should include the filename.It is recommended that you include a topic number in the filename so that you do not accidentally overwrite a file from a different model.\n",
    "\n",
    "By default, the CSV will reflect the table above _after_ any modifications you make by filtering or sorting. If you wish to use the original table, set `use_original=True`."
   ]
  },
  {
   "cell_type": "code",
   "execution_count": null,
   "metadata": {},
   "outputs": [],
   "source": [
    "# Configuration\n",
    "column        = '' # The column from which to count values (e.g. 'region')\n",
    "save_path     = '' # Filename with relative path where CSV file will be saved, e.g. 'data/media-counts.csv'\n",
    "use_original  = False\n",
    "\n",
    "\n",
    "# Get the counts table\n",
    "counts = get_counts(topic_docs_metadata, column)\n",
    "counts_table = to_qgrid(counts)\n",
    "\n",
    "# Save to csv\n",
    "if save_path is not None:\n",
    "    save_to_csv(table, save_path, use_original)\n",
    "\n",
    "# Display the table\n",
    "display(counts_table)"
   ]
  },
  {
   "cell_type": "markdown",
   "metadata": {},
   "source": [
    "## Visualise Metadata with a Simple Bar Plot (Static Version)\n",
    "\n",
    "Set `fields` to a list of column headings in the `counts_table` above. If you wish to display different names in the legend, provide a list of corresponding names for `legend_labels` (in the same order). You may adjust the `title`, `xlabel` (for the x-axis) and `ylabel` (for the y-axis) to describe the content of your data accurately.\n",
    "\n",
    "Since plots can be very cramped, you may want to look at a limited range of topics. To do this, modify the `start_topic` and `end_topic` values. You can also save space by creating a stacked plot with `stacked=True`. (The interactive plot in the next cell provides another option with pan and zoom features.)\n",
    "\n",
    "To save the plot a file, set `save_path` to a full file path, including the filename. The type of file is inferred from the extension. For instance, files ending in `.png` will be saved as PNG files and files ending in `.pdf` will be saved as PDF files. SVG format is also available."
   ]
  },
  {
   "cell_type": "code",
   "execution_count": null,
   "metadata": {},
   "outputs": [],
   "source": [
    "# Configuration\n",
    "title          = # E.g. 'Top Document Counts by Classification Label for Topics 1-50'\n",
    "start_topic    = 1\n",
    "end_topic      = None\n",
    "xlabel         = # E.g. 'Topic'\n",
    "ylabel         = # E.g. 'Count'\n",
    "stacked        = True\n",
    "save_path      = None # Or supply a file path if you wish to save the plot to a file\n",
    "fields         = # E.g. ['top_humanities_count', 'top_science_count']\n",
    "legend_labels  = # E.g. ['Humanities', 'Science']\n",
    "\n",
    "# Create the plot\n",
    "bar_plot(counts, start_topic, end_topic, fields, title, xlabel=xlabel, ylabel=ylabel, legend_labels=legend_labels, stacked=stacked, save_path=save_path)"
   ]
  },
  {
   "cell_type": "markdown",
   "metadata": {},
   "source": [
    "## Visualise Metadata with a Plotly Bar Plot (Interactive Version)\n",
    "\n",
    "The interactive plot (using Plotly) takes the same settings as the static plot above, except the stacked mode is not available. However, because zoom and pan features are available, it is possible to display the entire range of topics in a single graph. Click and drag over the graph to zoom in on a location. Click the home icon in the Plotly toolbar to restore the default zoom level. Click on the boxes in the legend to show and hide specific categories. Double-click to restore the default display.\n",
    "\n",
    "You can download the plot as PNG file by clicking the camera icon in the Plotly toolbar. If you wish to save the interactive plot as a standalone web page, set the `save_path` to a full file path, including the filename ending in `.html`."
   ]
  },
  {
   "cell_type": "code",
   "execution_count": null,
   "metadata": {},
   "outputs": [],
   "source": [
    "# Configuration\n",
    "title          = # E.g. 'Document Counts by Region for Topics 1-100 (Based on the Top 100 Documents)'\n",
    "start_topic    = 1\n",
    "end_topic      = None\n",
    "xlabel         = # E.g. 'Topic'\n",
    "ylabel         = # E.g. 'Count'\n",
    "save_path      = None # Supply a file path if you wish to save the plot to a file\n",
    "fields         = # E.g. ['Humanities', 'Science']\n",
    "legend_labels  = # E.g. ['Humanities', 'Science']\n",
    "\n",
    "# Create the plot\n",
    "plotly_bar_plot(counts, start_topic, end_topic, fields, title, xlabel=xlabel, ylabel=ylabel, legend_labels=legend_labels, save_path=save_path)"
   ]
  },
  {
   "cell_type": "markdown",
   "metadata": {},
   "source": [
    "## Generate Topic-Doc Dictionary (Optional Utility)\n",
    "\n",
    "This cell generates a dictionary with topic numbers as keys and a list of filenames in each topic as the values. Individual topics can be inspected with `topic_docs_dict[1]`, where \"1\" is the desired topic number. The dictionary can be saved as a json file by setting the `save_path` to a location where you would like to save the file. The path should include the filename, ending in `.json`."
   ]
  },
  {
   "cell_type": "code",
   "execution_count": null,
   "metadata": {},
   "outputs": [],
   "source": [
    "# Configuration\n",
    "save_path = None\n",
    "\n",
    "topic_docs_dict = generate_topic_doc_dict(df, save_path=save_path)\n",
    "print(json.dumps(topic_docs_dict, indent=2))\n",
    "# topic_docs_dict[1]"
   ]
  }
 ],
 "metadata": {
  "kernelspec": {
   "display_name": "Python 3",
   "language": "python",
   "name": "python3"
  },
  "language_info": {
   "codemirror_mode": {
    "name": "ipython",
    "version": 3
   },
   "file_extension": ".py",
   "mimetype": "text/x-python",
   "name": "python",
   "nbconvert_exporter": "python",
   "pygments_lexer": "ipython3",
   "version": "3.6.8"
  }
 },
 "nbformat": 4,
 "nbformat_minor": 2
}
