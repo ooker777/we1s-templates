{
 "cells": [
  {
   "cell_type": "markdown",
   "metadata": {},
   "source": [
    "# Add Metadata\n",
    "\n",
    "This notebook can be used to add metadata to project json files from a CSV file after they have been imported into the project.\n",
    "\n",
    "The CSV file must have a `filename` column referencing files in the `json` folder. If this does not exist, the script will look for a `name` column, append `.json`, and attempt to use it as a filename.\n",
    "\n",
    "### INFO\n",
    "\n",
    "__author__    = 'Scott Kleinman'  \n",
    "__copyright__ = 'copyright 2020, The WE1S Project'  \n",
    "__license__   = 'MIT'  \n",
    "__version__   = '1.0'  \n",
    "__email__     = 'scott.kleinman@csun.edu'"
   ]
  },
  {
   "cell_type": "markdown",
   "metadata": {},
   "source": [
    "## Configuration\n",
    "\n",
    "Configure the path to your metadata CSV file."
   ]
  },
  {
   "cell_type": "code",
   "execution_count": null,
   "metadata": {},
   "outputs": [],
   "source": [
    "metadata_filepath = 'metadata.csv'"
   ]
  },
  {
   "cell_type": "markdown",
   "metadata": {},
   "source": [
    "## Load the Metadata File"
   ]
  },
  {
   "cell_type": "code",
   "execution_count": null,
   "metadata": {},
   "outputs": [],
   "source": [
    "# Python imports\n",
    "from IPython.display import display, HTML\n",
    "from pathlib import Path\n",
    "\n",
    "# Get paths\n",
    "current_dir                = %pwd\n",
    "project_dir                = str(Path(current_dir).parent.parent)\n",
    "json_dir                   = project_dir + '/project_data/json'\n",
    "\n",
    "# Import the module script\n",
    "%run scripts/add_metadata.py\n",
    "\n",
    "# Peform the metadata update\n",
    "metadata = Metadata(metadata_filepath, json_dir)\n",
    "metadata.metadata"
   ]
  },
  {
   "cell_type": "markdown",
   "metadata": {},
   "source": [
    "## Add the Metadata to Project JSON files"
   ]
  },
  {
   "cell_type": "code",
   "execution_count": null,
   "metadata": {},
   "outputs": [],
   "source": [
    "metadata.add()"
   ]
  }
 ],
 "metadata": {
  "kernelspec": {
   "display_name": "Python 3",
   "language": "python",
   "name": "python3"
  },
  "language_info": {
   "codemirror_mode": {
    "name": "ipython",
    "version": 3
   },
   "file_extension": ".py",
   "mimetype": "text/x-python",
   "name": "python",
   "nbconvert_exporter": "python",
   "pygments_lexer": "ipython3",
   "version": "3.6.8"
  }
 },
 "nbformat": 4,
 "nbformat_minor": 2
}
