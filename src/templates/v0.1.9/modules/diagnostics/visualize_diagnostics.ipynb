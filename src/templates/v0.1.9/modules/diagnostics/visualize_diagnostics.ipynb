{
 "cells": [
  {
   "cell_type": "markdown",
   "metadata": {},
   "source": [
    "# Visualize Diagnostics\n",
    "This notebook copies the project's MALLET diagnostics xml files to the public server, along with an index file to allow you to visualize the contents. The visualization tool is only slightly modified from the one available on the <a href=\"http://mallet.cs.umass.edu/diagnostics.php\" target=\"_blank\">MALLET website</a>. This page also provides explanations for the various features recorded in the diagnostics file.\n",
    "\n",
    "**Important:** You must have generated a MALLET topic model with the MALLET diagnostics file before running this notebook.\n",
    "\n",
    "### Info\n",
    "\n",
    "__author__    = 'Scott Kleinman'  \n",
    "__copyright__ = 'copyright 2020, The WE1S Project'  \n",
    "__license__   = 'MIT'  \n",
    "__version__   = '1.6'  \n",
    "__email__     = 'scott.kleinman@csun.edu'"
   ]
  },
  {
   "cell_type": "markdown",
   "metadata": {},
   "source": [
    "## Create Diagnostics Visualizations\n",
    "\n",
    "This cell creates visualizations of MALLET xml diagnostics if they are created during the topic modelling process."
   ]
  },
  {
   "cell_type": "code",
   "execution_count": null,
   "metadata": {},
   "outputs": [],
   "source": [
    "# Python imports\n",
    "import os\n",
    "from pathlib import Path\n",
    "\n",
    "# Import the diagnostics scripts\n",
    "%run scripts/diagnostics.py\n",
    "\n",
    "# Get project directory and model paths\n",
    "project_dir = get_project_directory()\n",
    "model_dir = project_dir + '/project_data/models'\n",
    "config_path = project_dir + '/config/config.py'\n",
    "current_dir = %pwd\n",
    "\n",
    "# Import the config\n",
    "%run {config_path}\n",
    "\n",
    "# Create the visualizations\n",
    "create_vis(model_dir, current_dir, PORT)"
   ]
  },
  {
   "cell_type": "markdown",
   "metadata": {},
   "source": [
    "## Zip Diagnostics\n",
    "\n",
    "This cell will create a zip archive of your diagnostics visualizations for export. All you need to do is run the cell, and the zip archive will be created in your module directory."
   ]
  },
  {
   "cell_type": "code",
   "execution_count": null,
   "metadata": {},
   "outputs": [],
   "source": [
    "# Zip the models\n",
    "%run scripts/zip.py\n",
    "zip()"
   ]
  }
 ],
 "metadata": {
  "kernelspec": {
   "display_name": "Python 3",
   "language": "python",
   "name": "python3"
  },
  "language_info": {
   "codemirror_mode": {
    "name": "ipython",
    "version": 3
   },
   "file_extension": ".py",
   "mimetype": "text/x-python",
   "name": "python",
   "nbconvert_exporter": "python",
   "pygments_lexer": "ipython3",
   "version": "3.6.8"
  }
 },
 "nbformat": 4,
 "nbformat_minor": 2
}
