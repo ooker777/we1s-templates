{
 "cells": [
  {
   "cell_type": "markdown",
   "metadata": {},
   "source": [
    "# Create PyLDAvis\n",
    "\n",
    "<a href=\"https://github.com/bmabey/pyLDAvis\" target=\"_blank\">pyLDAvis</a> is a port of the R LDAvis package for interactive topic model visualization by Carson Sievert and Kenny Shirley.\n",
    "\n",
    "pyLDAvis is designed to help users interpret the topics in a topic model by examining the relevance and salience of terms in topics. Once a pyLDAvis object has been generated, many of its properties can be inspected as in tabular form as a way to examine the model. However, the main output is a visualization of the relevance and salience of key terms to the topics.\n",
    "\n",
    "pyLDAvis is not designed to use MALLET data out of the box. This notebook transforms the MALLET state file into the appropriate data formats before generating the visualization. The code is based on Jeri Wieringa's blog post <a href=\"http://jeriwieringa.com/2018/07/17/pyLDAviz-and-Mallet/\" target=\"_blank\">Using pyLDAvis with Mallet</a> and has been slightly altered and commented.\n",
    "\n",
    "### INFO\n",
    "\n",
    "__author__    = 'Scott Kleinman, Lindsay Thomas'  \n",
    "__copyright__ = 'copyright 2019-, The WE1S Project'  \n",
    "__license__   = 'GPL'  \n",
    "__version__   = '2.5'  \n",
    "__email__     = 'scott.kleinman@csun.edu'"
   ]
  },
  {
   "cell_type": "markdown",
   "metadata": {},
   "source": [
    "## Settings\n",
    "\n",
    "In most cases, you can simply run this cell without modifying any of the settings."
   ]
  },
  {
   "cell_type": "code",
   "execution_count": null,
   "metadata": {},
   "outputs": [],
   "source": [
    "# Python imports\n",
    "import gzip\n",
    "import json\n",
    "import os\n",
    "from IPython.display import display, HTML\n",
    "from pathlib import Path\n",
    "\n",
    "# Get module paths\n",
    "current_dir                 = %pwd\n",
    "project_dir                 = str(Path(current_dir).parent.parent)\n",
    "model_dir                   = project_dir + '/project_data/models'\n",
    "json_dir                    = project_dir + '/project_data/json'\n",
    "config_path                 = project_dir + '/config/config.py'\n",
    "output_path                 = current_dir\n",
    "output_file                 = 'index.html'\n",
    "\n",
    "# Import scripts\n",
    "%run scripts/PyLDAvis.py\n",
    "%run {config_path}\n",
    "\n",
    "display(HTML('<p style=\"color: green;\">Setup complete.</p>'))"
   ]
  },
  {
   "cell_type": "markdown",
   "metadata": {},
   "source": [
    "## Configuration\n",
    "\n",
    "Select models to create pyLDAvis visualizations for. **Please run the next cell regardless of whether you change anything.**\n",
    "\n",
    "By default, this notebook is set to create a pyLDAvis for all of the models in your project `models` directory. If you would like to select only certain models to produce a pyLDAvis for, make those selections in the next cell (see next paragraph). Otherwise leave the value for `selection` as `All`, which is the default. \n",
    "\n",
    "**To produce pyLDAvis for a selection of the models you created, but not all:** Navigate to the `your_project_name/project_data/models` directory in your project. Note the name of each subdirectory in that folder. Each subdirectory should be called `topicsn1`, where `n1` is the number of topics you chose to model. You should see a subdirectory for each model you produced. To choose which subdirectory/ies you would like to produce browsers for, change the value of `selection` in the cell below to a list of subdirectory names. For example, if you wanted to produce browsers for only the 50- and 75-topic models you created, change the value of `selection` below to this:\n",
    "\n",
    "Example:\n",
    "\n",
    "`selection = ['topics50', 'topics75']`\n",
    "\n",
    "Please follow this format exactly."
   ]
  },
  {
   "cell_type": "code",
   "execution_count": null,
   "metadata": {},
   "outputs": [],
   "source": [
    "# Configuration\n",
    "selection = 'All' # Or e.g. ['topics50', 'topics75']"
   ]
  },
  {
   "cell_type": "markdown",
   "metadata": {},
   "source": [
    "Get names of model subdirectories to visualize and their state files."
   ]
  },
  {
   "cell_type": "code",
   "execution_count": null,
   "metadata": {},
   "outputs": [],
   "source": [
    "models = get_models(model_dir, selection)"
   ]
  },
  {
   "cell_type": "markdown",
   "metadata": {},
   "source": [
    "### Add Metadata and Labels for the User Interface (Optional)\n",
    "\n",
    "The pyLDAvis plot can be customized to display metadata information in your project's json files. Skip this cell if you just want to generate a basic pyLDAvis plot.\n",
    "\n",
    "By default, pyLDAvis displays circles representing the topics in the visualization's left panel and tokens (words) in the right panel. Setting the `metadata` property below to another field in your project's json files, will cause pyLDAvis to display the contents of that field in the right panel. For instance, if you had a `publication` field, the title of the publication would be displayed.\n",
    "\n",
    "To do this, identify the index number for each model in the list above, and add the necessary information using the following lines in the next cell.\n",
    "\n",
    "```python\n",
    "models[0]['metadata'] = 'publication'\n",
    "models[0]['ui_labels'] = [\n",
    "                'Intertopic Distance Map (via multidimensional scaling)',\n",
    "                'topic',\n",
    "                'publication',\n",
    "                'publications',\n",
    "                'tokens'\n",
    "            ]\n",
    "```\n",
    "Additional models would be `models[1]`, `models[2]`, etc.\n",
    "\n",
    "The `ui_labels` must be given in the following order:\n",
    "\n",
    "1. The title of the multidimensional scaling graph\n",
    "2. The type of unit represented by the graph circles\n",
    "3. The singular form of the unit represented in the bar graphs on the right\n",
    "4. The plural form of the unit represented in the bar graph on the right.\n",
    "5. The unit represented by the percentage in the Relevance display.\n",
    "\n",
    "The example above indicates that the model will represent a map of intertopic distances in which each topic will show the distribution of publications, as represented by the percentage of topic tokens in the publication.\n",
    "\n",
    "**If you are unsure what to put, you do not have to assign `ui_labels`. A visualization will still be generated but may not have appropriate labels for the type of metadata you are using.**"
   ]
  },
  {
   "cell_type": "code",
   "execution_count": null,
   "metadata": {},
   "outputs": [],
   "source": [
    "# Uncomment and modify these lines to run the cell\n",
    "\n",
    "# models[0]['metadata'] = 'publication'\n",
    "# models[0]['ui_labels'] = [\n",
    "#                 'Intertopic Distance Map (via multidimensional scaling)',\n",
    "#                 'topic',\n",
    "#                 'publication',\n",
    "#                 'publications',\n",
    "#                 'tokens'\n",
    "#             ]\n",
    "\n",
    "# models[1]['metadata'] = 'publication'\n",
    "# models[1]['ui_labels'] = [\n",
    "#                 'Intertopic Distance Map (via multidimensional scaling)',\n",
    "#                 'topic',\n",
    "#                 'publication',\n",
    "#                 'publications',\n",
    "#                 'tokens'\n",
    "#             ]\n",
    "\n",
    "display(HTML('<p style=\"color: green;\">Here is a summary of the information you will be using to generate your visualization(s).</p>'))\n",
    "print(json.dumps(models, indent=2))"
   ]
  },
  {
   "cell_type": "markdown",
   "metadata": {},
   "source": [
    "## Generate the Visualizations\n",
    "\n",
    "Generate visualizations and links to all pyLDAvis visualizations in your project folder. See the next cell if you wish to make them public.\n",
    "\n",
    "Since this cell can take some time to run (hours for many thousands of documents and multiple models), the output is captured instead of shown as the script is processing. Run `output.show()` in the following cell when it is finished to check that everything ran as expected.\n",
    "\n",
    "**Note:** You may receive the following warning:\n",
    "\n",
    "```\n",
    "FutureWarning: Sorting because non-concatenation axis is not aligned. A future version of pandas will change to not sort by default.\n",
    "```\n",
    "\n",
    "It is OK to ignore this warning."
   ]
  },
  {
   "cell_type": "code",
   "execution_count": null,
   "metadata": {},
   "outputs": [],
   "source": [
    "%%capture output\n",
    "\n",
    "msg = \"\"\"<p><strong>Note:</strong> You may receive the following warning:</p><p><code>FutureWarning: Sorting because non-concatenation axis is not aligned. \n",
    "A future version of pandas will change to not sort by default.</code></p><p>It is OK to ignore this warning.</p>\"\"\"\n",
    "display(HTML(msg))\n",
    "%run scripts/PyLDAvis.py\n",
    "result, vis = generate(model_dir, models, output_path, output_file, json_dir)\n",
    "display_links(project_dir, models, WRITE_DIR, PORT)"
   ]
  },
  {
   "cell_type": "code",
   "execution_count": null,
   "metadata": {},
   "outputs": [],
   "source": [
    "output.show()"
   ]
  },
  {
   "cell_type": "markdown",
   "metadata": {},
   "source": [
    "## Create Zipped Copies of your Visualizations for Export (Optional)\n",
    "\n",
    "By default, browsers for all available models will be zipped. If you wish to zip only one model, change the `models` setting to indicate the name of the model folder (e.g. `'topics25'`). If you wish to zip more than one model, but not all, provide a list in square brackets (e.g. `['topics25', 'topics50']`)."
   ]
  },
  {
   "cell_type": "code",
   "execution_count": null,
   "metadata": {},
   "outputs": [],
   "source": [
    "# Configuration\n",
    "models = 'All' # You can also select models with vaues like 'topics25' or ['topics25', 'topics50']\n",
    "\n",
    "# Zip the models\n",
    "%run scripts/zip.py\n",
    "zip(models)"
   ]
  },
  {
   "cell_type": "markdown",
   "metadata": {},
   "source": [
    "## Access pyLDAvis Data Attributes (Optional)\n",
    "\n",
    "pyLDAvis generates a number of useful variables which it can be helpful for understanding the data underlying the visualization or for use in other applications. These variables can be accessed via the `vis` object created in **Generate the Visualizations** section. You can view the data by calling `show_attribute()` with the appropriate attribute configured. Possible attributes are `alpha`, `beta`, `doc_lengths`, `hyperparameters`, `model_state`, `phi`, `phi_df`, `theta`, `theta_df`. Further information about these attributes can be found in the discussion of Jeri Wieringa's blog post <a href=\"http://jeriwieringa.com/2018/07/17/pyLDAviz-and-Mallet/\" target=\"_blank\">Using pyLDAvis with Mallet</a>.\n",
    "\n",
    "You can restrict the number of lines shown by modifying the `start` and `end` settings. If you wish to save the result to a file, set the `save_path`. Tabular data should be saved to a csv file; everything else can be plain text."
   ]
  },
  {
   "cell_type": "code",
   "execution_count": null,
   "metadata": {},
   "outputs": [],
   "source": [
    "# Configuration\n",
    "attribute  = 'theta'\n",
    "start      = 0\n",
    "end        = None\n",
    "save_path  = None\n",
    "\n",
    "\n",
    "def show_attribute(vis, attribute, start=None, end=None, save_path=None):\n",
    "    \"\"\"Show a pyLDAvis attribute by name.\"\"\"\n",
    "    result = getattr(vis, attribute)\n",
    "    result = result[start:end]\n",
    "    if save_path is not None:\n",
    "        if isinstance(result, pd.DataFrame):\n",
    "            result.to_csv(save_path)\n",
    "        else:\n",
    "            with open(save_path, 'w') as f:\n",
    "                f.write(save_path)\n",
    "    display(result)\n",
    "\n",
    "# Show the pyLDAvis attribute\n",
    "show_attribute(vis, attribute, start=start, end=end, save_path=save_path)"
   ]
  }
 ],
 "metadata": {
  "kernelspec": {
   "display_name": "Python 3",
   "language": "python",
   "name": "python3"
  },
  "language_info": {
   "codemirror_mode": {
    "name": "ipython",
    "version": 3
   },
   "file_extension": ".py",
   "mimetype": "text/x-python",
   "name": "python",
   "nbconvert_exporter": "python",
   "pygments_lexer": "ipython3",
   "version": "3.6.8"
  }
 },
 "nbformat": 4,
 "nbformat_minor": 2
}
