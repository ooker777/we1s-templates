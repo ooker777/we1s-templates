{
 "cells": [
  {
   "cell_type": "markdown",
   "metadata": {},
   "source": [
    "# 5. CREATE PYLDAVIS BROWSER\n",
    "\n",
    "[pyLDAvis](https://github.com/bmabey/pyLDAvis) is a port of the R LDAvis package for interactive topic model visualization by Carson Sievert and Kenny Shirley.\n",
    "\n",
    "pyLDAvis is designed to help users interpret the topics in a topic model by examining the relevance and salience of terms in topics. Along the way, it displays tabular data which can be used to examine the model.\n",
    "\n",
    "pyLDAvis is not designed to use Mallet data out of the box. This notebook transforms the Mallet state file into the appropriate data formats before generating the visualisation. The code is based on Jeri Wieringa's blog post [Using pyLDAvis with Mallet](http://jeriwieringa.com/2018/07/17/pyLDAviz-and-Mallet/) and has been slightly altered and commented.\n",
    "\n",
    "### INFO\n",
    "\n",
    "__author__    = 'Scott Kleinman'  \n",
    "__copyright__ = 'copyright 2019, The WE1S Project'  \n",
    "__license__   = 'GPL'  \n",
    "__version__   = '2.0'  \n",
    "__email__     = 'scott.kleinman@csun.edu'"
   ]
  },
  {
   "cell_type": "markdown",
   "metadata": {},
   "source": [
    "## Settings"
   ]
  },
  {
   "cell_type": "code",
   "execution_count": 140,
   "metadata": {},
   "outputs": [
    {
     "name": "stdout",
     "output_type": "stream",
     "text": [
      "/home/jovyan/write/templates/multiple_topics_template\n"
     ]
    }
   ],
   "source": [
    "import gzip\n",
    "import json\n",
    "import os\n",
    "from IPython.display import display, HTML\n",
    "from pathlib import Path\n",
    "\n",
    "current_dir = %pwd\n",
    "current_pathobj = Path(current_dir)\n",
    "project_dir = str(current_pathobj.parent.parent)\n",
    "print(project_dir)\n",
    "published_site_folder_name = os.path.basename(project_dir)\n",
    "\n",
    "data_dir = project_dir + '/project_data'\n",
    "model_dir = data_dir + '/models'\n",
    "pyldavis_script_path   = current_dir + '/' + 'pyldavis_scripts/PyLDAvis.py'\n",
    "\n",
    "output_path = current_dir\n",
    "output_file = 'index.html'\n",
    "json_dir = data_dir + '/json'\n",
    "\n",
    "%run {pyldavis_script_path}"
   ]
  },
  {
   "cell_type": "markdown",
   "metadata": {},
   "source": [
    "## Configuration\n",
    "\n",
    "Select models to create pyldavis visualizations for. **Please run the next cell regardless of whether you change anything.**\n",
    "\n",
    "By default, this notebook is set to create a pyldavis for all of the models you produced in Notebook 2 (`02_model_topics.ipynb`). If you would like to select only certain models to produce a pyldavis for, make those selections in the next cell (see next paragraph). Otherwise leave the value in the next cell set to `None`, which is the default. \n",
    "\n",
    "**To produce pyldavis for a selection of the models you created, but not all:** Navigate to the `your_project_name/project_data/models` directory in your project. Note the name of each subdirectory in that folder. Each subdirectory should be called `topicsn1`, where `n1` is the number of topics you chose to model. You should see a subdirectory for each model you produced. To choose which subdirectory/ies you would like to produce browsers for, change the value of `selection` in the cell below to a list of subdirectory names. For example, if you wanted to produce browsers for only the 50- and 75-topic models you created, change the value of `selection` below to this:\n",
    "\n",
    "Example:\n",
    "\n",
    "`selection = ['topics50','topics75']`\n",
    "\n",
    "Please follow this format exactly."
   ]
  },
  {
   "cell_type": "code",
   "execution_count": 141,
   "metadata": {},
   "outputs": [],
   "source": [
    "selection = ['topics10']"
   ]
  },
  {
   "cell_type": "markdown",
   "metadata": {},
   "source": [
    "Get names of model subdirectories to visualize and their state files."
   ]
  },
  {
   "cell_type": "code",
   "execution_count": 142,
   "metadata": {},
   "outputs": [
    {
     "data": {
      "text/html": [
       "<h2>Will create visualizations for the following models: ['topics10']</h2>"
      ],
      "text/plain": [
       "<IPython.core.display.HTML object>"
      ]
     },
     "metadata": {},
     "output_type": "display_data"
    },
    {
     "data": {
      "text/html": [
       "<h2><p>Found 2 state files for 1 models</h2>"
      ],
      "text/plain": [
       "<IPython.core.display.HTML object>"
      ]
     },
     "metadata": {},
     "output_type": "display_data"
    },
    {
     "data": {
      "text/html": [
       "<h2>Ready to generate visualization(s).</h2>"
      ],
      "text/plain": [
       "<IPython.core.display.HTML object>"
      ]
     },
     "metadata": {},
     "output_type": "display_data"
    },
    {
     "name": "stdout",
     "output_type": "stream",
     "text": [
      "0: topics10\n"
     ]
    }
   ],
   "source": [
    "models = get_models(model_dir, selection)\n",
    "\n",
    "# Display all model sub-directories with index numbers\n",
    "for index, item in enumerate(models):\n",
    "    print(str(index) + ': ' + item['model'])"
   ]
  },
  {
   "cell_type": "markdown",
   "metadata": {},
   "source": [
    "### Add metadata and labels for the user interface (Optional).\n",
    "\n",
    "To do this, identify the index number for each model in the list above, and add the necessary information using the following lines in the next cell.\n",
    "\n",
    "```python\n",
    "models[0]['metadata'] = 'pub'\n",
    "models[0]['ui_labels'] = [\n",
    "                'Intertopic Distance Map (via multidimensional scaling)',\n",
    "                'topic',\n",
    "                'publication',\n",
    "                'publications',\n",
    "                'tokens'\n",
    "            ]\n",
    "```\n",
    "Additional models would be `models[1]`, `models[2]`, etc.\n",
    "\n",
    "The `ui_labels` must be given in the following order:\n",
    "\n",
    "1. The title of the multidimensional scaling graph\n",
    "2. The type of unit represented by the graph circles\n",
    "3. The singular form of the unit represented in the bar graphs on the right\n",
    "4. The plural form of the unit represented in the bar graph on the right.\n",
    "5. The unit represented by the percentage in the Relevance display.\n",
    "\n",
    "The example above indicates that the model will represent a map of intertopic distances in which each topic will show the distribution of publications, as represented by the percentage of topic tokens in the publication.\n",
    "\n",
    "**If you are unsure what to put, you do not have to assign `ui_labels`. A visualization will still be generated but may not have appropriate labels for the type of metadata you are using.**"
   ]
  },
  {
   "cell_type": "code",
   "execution_count": 143,
   "metadata": {},
   "outputs": [
    {
     "data": {
      "text/html": [
       "<h4>Here is a summary of the information you will be using to generate your visualization(s).</h4>"
      ],
      "text/plain": [
       "<IPython.core.display.HTML object>"
      ]
     },
     "metadata": {},
     "output_type": "display_data"
    },
    {
     "name": "stdout",
     "output_type": "stream",
     "text": [
      "[\n",
      "  {\n",
      "    \"model\": \"topics10\",\n",
      "    \"state_file\": \"/home/jovyan/write/templates/multiple_topics_template/project_data/models/topics10/topic-state10.gz\",\n",
      "    \"metadata\": \"pub\",\n",
      "    \"ui_labels\": [\n",
      "      \"Intertopic Distance Map (AKA the 10 Circles of Hell)\",\n",
      "      \"topic\",\n",
      "      \"publication\",\n",
      "      \"publications\",\n",
      "      \"tokens\"\n",
      "    ]\n",
      "  }\n",
      "]\n"
     ]
    }
   ],
   "source": [
    "# Uncomment and modify these lines to run the cell\n",
    "\n",
    "models[0]['metadata'] = 'pub'\n",
    "models[0]['ui_labels'] = [\n",
    "                'Intertopic Distance Map (AKA the 10 Circles of Hell)',\n",
    "                'topic',\n",
    "                'publication',\n",
    "                'publications',\n",
    "                'tokens'\n",
    "            ]\n",
    "\n",
    "# models[1]['metadata'] = 'pub'\n",
    "# models[1]['ui_labels'] = [\n",
    "#                 'Intertopic Distance Map (via multidimensional scaling)',\n",
    "#                 'topic',\n",
    "#                 'publication',\n",
    "#                 'publications',\n",
    "#                 'tokens'\n",
    "#             ]\n",
    "\n",
    "display(HTML('<h4>Here is a summary of the information you will be using to generate your visualization(s).</h4>'))\n",
    "print(json.dumps(models, indent=2))"
   ]
  },
  {
   "cell_type": "markdown",
   "metadata": {},
   "source": [
    "## Generate the Visualizations"
   ]
  },
  {
   "cell_type": "code",
   "execution_count": 144,
   "metadata": {},
   "outputs": [
    {
     "name": "stdout",
     "output_type": "stream",
     "text": [
      "Creating metadata state...\n",
      "Processing /home/jovyan/write/templates/multiple_topics_template/project_data/models/topics10/topic-state-pub.gz...\n",
      "    Getting hyperparameters...\n",
      "    Creating dataframe...\n",
      "    Getting document lengths...\n",
      "    Getting term frequencies...\n",
      "    Getting topic-word-assignments...\n",
      "    Getting topic-term-matrix...\n",
      "    Saving... to index-pub.html\n",
      "call customise labels\n",
      "custom labels called\n",
      "Done!\n"
     ]
    },
    {
     "name": "stderr",
     "output_type": "stream",
     "text": [
      "/opt/conda/lib/python3.6/site-packages/pyLDAvis/_prepare.py:257: FutureWarning: Sorting because non-concatenation axis is not aligned. A future version\n",
      "of pandas will change to not sort by default.\n",
      "\n",
      "To accept the future behavior, pass 'sort=False'.\n",
      "\n",
      "To retain the current behavior and silence the warning, pass 'sort=True'.\n",
      "\n",
      "  return pd.concat([default_term_info] + list(topic_dfs))\n"
     ]
    }
   ],
   "source": [
    "%run {pyldavis_script_path}\n",
    "generate(model_dir, models, output_path, output_file, json_dir)"
   ]
  },
  {
   "cell_type": "code",
   "execution_count": null,
   "metadata": {},
   "outputs": [],
   "source": []
  }
 ],
 "metadata": {
  "kernelspec": {
   "display_name": "Python 3",
   "language": "python",
   "name": "python3"
  },
  "language_info": {
   "codemirror_mode": {
    "name": "ipython",
    "version": 3
   },
   "file_extension": ".py",
   "mimetype": "text/x-python",
   "name": "python",
   "nbconvert_exporter": "python",
   "pygments_lexer": "ipython3",
   "version": "3.6.6"
  }
 },
 "nbformat": 4,
 "nbformat_minor": 2
}
