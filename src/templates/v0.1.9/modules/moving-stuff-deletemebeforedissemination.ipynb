{
 "cells": [
  {
   "cell_type": "code",
   "execution_count": 1,
   "metadata": {},
   "outputs": [
    {
     "data": {
      "text/plain": [
       "'/home/jovyan/write/pub/templates/project_template/modules/counting'"
      ]
     },
     "execution_count": 1,
     "metadata": {},
     "output_type": "execute_result"
    }
   ],
   "source": [
    "import os\n",
    "import shutil\n",
    "\n",
    "source = '/home/jovyan/write/dev/20200723_2335_import2dfb-test/modules/counting'\n",
    "destination = '/home/jovyan/write/pub/templates/project_template/modules/counting'\n",
    "file = 'README.md'\n",
    "file_path = source + '/' + file\n",
    "\n",
    "# shutil.copy(file_path, destination)\n",
    "shutil.copytree(source, destination)\n"
   ]
  },
  {
   "cell_type": "code",
   "execution_count": 1,
   "metadata": {},
   "outputs": [
    {
     "data": {
      "text/plain": [
       "'/home/jovyan/write/dev/deprecated-modules/topic_bubbles-old'"
      ]
     },
     "execution_count": 1,
     "metadata": {},
     "output_type": "execute_result"
    }
   ],
   "source": [
    "import shutil\n",
    "\n",
    "source = '/home/jovyan/write/templates/multiple_topics_template/modules/topic_bubbles-old'\n",
    "destination = '/home/jovyan/write/dev/deprecated-modules'\n",
    "\n",
    "shutil.move(source,destination)"
   ]
  }
 ],
 "metadata": {
  "kernelspec": {
   "display_name": "Python 3",
   "language": "python",
   "name": "python3"
  },
  "language_info": {
   "codemirror_mode": {
    "name": "ipython",
    "version": 3
   },
   "file_extension": ".py",
   "mimetype": "text/x-python",
   "name": "python",
   "nbconvert_exporter": "python",
   "pygments_lexer": "ipython3",
   "version": "3.6.8"
  }
 },
 "nbformat": 4,
 "nbformat_minor": 2
}
