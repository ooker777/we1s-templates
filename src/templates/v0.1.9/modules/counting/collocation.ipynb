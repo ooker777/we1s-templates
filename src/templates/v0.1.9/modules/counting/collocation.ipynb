{
 "cells": [
  {
   "cell_type": "markdown",
   "metadata": {},
   "source": [
    "# Collocation Metrics for Bi- and Trigrams\n",
    "\n",
    "Collocation is another way of discussing co-occurrence; in natural language processing, the term \"collocation\" usually refers to phrases of two or more tokens that commonly occur together in a given context. You can use this notebook to understand how common certain bi- and trigrams are in your project. Generally speaking, the more tokens you have in your project, and the larger your project data is, the more meaningful these metrics will be. \n",
    "\n",
    "For a brief introduction to the concept of collocation in natural language processing and to some of the metrics used in this notebook, see <a href=\"https://medium.com/@nicharuch/collocations-identifying-phrases-that-act-like-individual-words-in-nlp-f58a93a2f84a\" target=\"_blank\">Collocations</a>. More in-depth explanations can be found in a <a href=\"https://nlp.stanford.edu/fsnlp/promo/colloc.pdf\" target=\"_blank\">NLP textbook chapter on collocations</a> and in Gerlof Bouma's <a href=\"https://www.semanticscholar.org/paper/Normalized-%28pointwise%29-mutual-information-in-Bouma/15218d9c029cbb903ae7c729b2c644c24994c201?p2df\" target=\"_blank\">Normalized (Pointwise) Mutual Information in Collocation Extraction</a>.\n",
    "\n",
    "This notebook allows you to calculate five different collocation metrics:  1) Likelihood ratio; 2) Mutual information (MI) scores; 2) Pointwise mutual information (PMI) scores; 4) Student's t-test; and 5) Chi-squared test.\n",
    "\n",
    "<strong>Important:</strong> Collocation metrics are only useful when you can tokenize on bi- and trigrams. Therefore, this notebook assumes your documents include full-text data, and that this data is stored as a string in the `content` field of each document (see the **Settings** cell).\n",
    "\n",
    "### Technical Note\n",
    "\n",
    "This notebook uses the NLTK package to build a custom tokenizer to tokenize project uni-, bi-, and trigrams. This tokenizer differs from the one used in the WE1S preprocessing pipeline. See the module's <a href=\"README.md\" target=\"_blank\">README.md</a> file for more information.\n",
    "\n",
    "### INFO\n",
    "\n",
    "__author__    = 'Lindsay Thomas'  \n",
    "__copyright__ = 'copyright 2020, The WE1S Project'  \n",
    "__license__   = 'MIT'  \n",
    "__version__   = '2.0'  \n",
    "__email__     = 'lindsaythomas@miami.edu'"
   ]
  },
  {
   "cell_type": "markdown",
   "metadata": {},
   "source": [
    "## Settings"
   ]
  },
  {
   "cell_type": "code",
   "execution_count": null,
   "metadata": {},
   "outputs": [],
   "source": [
    "# Python imports\n",
    "import os\n",
    "import csv\n",
    "from pathlib import Path\n",
    "from IPython.display import display, HTML\n",
    "\n",
    "# Import scripts\n",
    "%run scripts/count_tokens.py\n",
    "\n",
    "# Define paths\n",
    "current_dir     = %pwd\n",
    "current_pathobj = Path(current_dir)\n",
    "project_dir     = str(current_pathobj.parent.parent)\n",
    "project_name    = os.path.basename(project_dir)\n",
    "current_reldir  = current_dir.split(\"/write/\")[1]\n",
    "data_dir        = project_dir + '/project_data'\n",
    "json_dir        = project_dir + '/project_data/json'\n",
    "content_field   = 'content'\n",
    "stopword_file   = '/home/jovyan/write/pub/templates/project_template/modules/topic_modeling/scripts/we1s_standard_stoplist.txt'\n",
    "\n",
    "display(HTML('<p style=\"color: green;\"><strong>Setup complete.</strong></p>'))"
   ]
  },
  {
   "cell_type": "markdown",
   "metadata": {},
   "source": [
    "## 1. Configure Code\n",
    "\n",
    "You must run all of the cells in this \"Configure Code\" section, even if you do not change the values."
   ]
  },
  {
   "cell_type": "markdown",
   "metadata": {},
   "source": [
    "### Set Tokenization Length\n",
    "Configure the `set_length` variable below according to the length of ngram you are analyzing. Since collocations always involve 2 or more words, this section of the notebook only works with bigrams and trigrams. The default is bigrams; to count trigrams, comment out the bigram line, and uncomment the trigram line. \n",
    "\n",
    "**Note:** Because this code does not strip hyphens, hyphenated words like \"first-generation\" are considered unigrams."
   ]
  },
  {
   "cell_type": "code",
   "execution_count": null,
   "metadata": {},
   "outputs": [],
   "source": [
    "# Choose to analyze bigrams, or trigrams\n",
    "set_length = 'bigram'\n",
    "# set_length = 'trigram'\n",
    "\n",
    "\n",
    "if set_length not in ['bigram', 'trigram']:\n",
    "    display(HTML(\"<p style=\\\"color: red;\\\">The <code>set_length</code> variable must be <code>'bigram'</code> or <code>'trigram'</code>.</p>\"))\n",
    "else:\n",
    "    msg = 'You have set the <code>set_length</code> variable to <code>' + set_length + '</code>.'\n",
    "    display(HTML('<p style=\"color: green;\">' + msg + '</p>'))"
   ]
  },
  {
   "cell_type": "markdown",
   "metadata": {},
   "source": [
    "### Configure Punctuation Setting\n",
    "\n",
    "This cell strips common punctuation from project documents. It will **NOT** strip hyphens, single or double, in order to account for hyphenated words and phrases such as \"first-generation\". Because this punctuation list is bespoke and not standardized (standardized options strip hyphens), some punctuation marks or other non-Unicode characters may make it through. You do not need to change anything about the below cell (unless you are interested in the frequency of punctuation marks, or @ signs, etc.), but you do need to run it. If you do not want to remove punctuation from your documents, you should set the `punctuations` variable to an empty string by uncommenting the line that says `punctuations = ''` in the cell below."
   ]
  },
  {
   "cell_type": "code",
   "execution_count": null,
   "metadata": {},
   "outputs": [],
   "source": [
    "# Define punctuation to strip\n",
    "punctuations = \"_______________________\\'m\\'n\\'ve!()[]{};:\\'\\\"\\,<>./?@#$%^&*_~''``''\"\n",
    "\n",
    "# To strip no punctuation, uncomment the line below\n",
    "# punctuations = ''\n",
    "\n",
    "if punctuations == '':\n",
    "    display(HTML('<p style=\"color: red;\">You have elected not to strip any punctuation.</p>'))\n",
    "else:\n",
    "    msg = 'You have set the <code>punctuations</code> variable to <code>' + punctuations + '</code>.'\n",
    "    display(HTML('<p style=\"color: green;\">' + msg + '</p>'))   "
   ]
  },
  {
   "cell_type": "markdown",
   "metadata": {},
   "source": [
    "### Configure Stop Word Setting\n",
    "\n",
    "The default setting is to delete stop words from your data using the WE1S standard stoplist. You can view this list in you project's `modules/topic_modeling/scripts` folder. You can edit this file for your project or create a custom stoplist. If you use a custom list, make sure that it is a plain text file with one word per line. Upload the file to your project and configure the `stopword_file` variable in the **Settings** cell to indicate the path to your custom stop word file.\n",
    "\n",
    "If your data has already had the stop words you want removed or if you do not want to remove stop words, change the value of `set_stopwords` to `False`.\n",
    "\n",
    "It is generally recommended to delete stop words from a document before obtaining bi- and/or trigram frequencies. This will result in \"inexact\" bi- and trigrams, however, as any stop words will be deleted *before* tokenization into bi- or trigrams. If you are interested in specific bi- or trigrams that contain stop words, such as \"first\" in \"first generation\" (without a hyphen), you may want to create a custom stop word list."
   ]
  },
  {
   "cell_type": "code",
   "execution_count": null,
   "metadata": {},
   "outputs": [],
   "source": [
    "# Delete stopwords from content fields before obtaining word frequencies.\n",
    "# If set to True, stop words will be deleted. If set to false, stop words will not be deleted.\n",
    "set_stopwords = True\n",
    "\n",
    "if set_stopwords == True:\n",
    "    display(HTML('<p style=\"color: green;\">You have elected to strip stopwords.</p>'))\n",
    "else:\n",
    "    display(HTML('<p style=\"color: red;\">You have elected not to strip stopwords.</p>'))"
   ]
  },
  {
   "cell_type": "markdown",
   "metadata": {},
   "source": [
    "## 2. Calculate Token Frequencies\n",
    "\n",
    "The cell below obtains the frequency values you need to calculate all collocation metrics below. To run any cells in **Section 3** of this notebook, you must run this cell."
   ]
  },
  {
   "cell_type": "code",
   "execution_count": null,
   "metadata": {
    "scrolled": false
   },
   "outputs": [],
   "source": [
    "# Obtain tf-idf scores\n",
    "all_finders_freq, all_finders_list, freq, bad_jsons = frequency_dir(json_dir, content_field, set_stopwords, \n",
    "                                                                    punctuations, set_length, stopword_file)\n",
    "\n",
    "if len(bad_jsons) > 0:\n",
    "        msg = 'Token frequency calculations complete. Warning! ' + str(len(bad_jsons)) + ' documents failed to load and will not be included in the calculation. '\n",
    "        msg += 'If this number is large, this may significantly affect your results.'\n",
    "        display(HTML('<p style=\"color: red;\">' + msg + '</p>'))\n",
    "\n",
    "if all_finders_list != []:\n",
    "    msg = 'Token frequency calculations complete. Calculate collocation metrics in the next section.'\n",
    "    display(HTML('<p style=\"color:green;\">' + msg + '</p>'))\n",
    "if all_finders_list == []:\n",
    "    display(HTML('<p style=\"color: red;\">No results found.</p>'))"
   ]
  },
  {
   "cell_type": "markdown",
   "metadata": {},
   "source": [
    "## 3. Calculate Collocation Metrics\n",
    "This section of the notebook allows you to calculate five different collocation metrics: 1) Likelihood ratio; 2) Mutual information (MI) scores; 2) Pointwise mutual information (PMI) scores; 4) Student's t-test; and 5) Chi-squared test. All cells in this section of the notebook rely on the calculations you performed in section 2. You must run the previous cell before you can run any cells below.\n",
    "\n",
    "For more information about each of these collocation metrics, see this module's <a href=\"README.md\" target=\"_blank\">README.md</a> file."
   ]
  },
  {
   "cell_type": "markdown",
   "metadata": {},
   "source": [
    "### Select Collocation Metric\n",
    "Select the collocation metric you would like to calculate in the cell below. You may select `'likelihood'`, `'mi'`, `'pmi'`, `'t-test'`, `'chi-square'`. If you select `pmi` or `mi`, you should select a value for `freq_filter` below."
   ]
  },
  {
   "cell_type": "code",
   "execution_count": null,
   "metadata": {},
   "outputs": [],
   "source": [
    "# Set to 'likelihood', 'mi', 'pmi', 't-test', or 'chi-square'\n",
    "metric = ''\n",
    "\n",
    "if metric not in ['likelihood', 'mi', 'pmi', 't-test', 'chi-square']:\n",
    "    display(HTML('<p style=\"color:red;\">The <code>metric</code> variable must be set to <code>likelihood</code>, <code>mi</code>, <code>pmi</code>, <code>t-test</code>, <code>chi-square</code>.</p>'))\n",
    "elif metric in ['mi', 'pmi']:\n",
    "    display(HTML('<p style=\"color:green;\">The <code>metric</code> variable has been set to <code>' + metric + '</code>.</p>'))\n",
    "    display(HTML('<p style=\"color:red;\">You should set a <code>freq_filter</code> value in the next cell.</p>'))\n",
    "else:\n",
    "    display(HTML('<p style=\"color:green;\">The <code>metric</code> variable has been set to <code>' + metric + '</code>. You do not need to run the next cell.</p>'))\n",
    "    freq_filter=None"
   ]
  },
  {
   "cell_type": "markdown",
   "metadata": {},
   "source": [
    "### Set Frequency Filter (MI and PMI Metrics Only)\n",
    "\n",
    "MI and PMI scores are sensitive to unique words, which can make results less meaningful because often unique words will occur much less frequently throughout a corpus. To account for this, you can set a frequency filter so that you only measure MI or PMI scores for bi- or trigrams that occur a certain number of times. \n",
    "\n",
    "The `freq_filter` variable is set to `None` by default below. If you would like to apply a frequency filter, please provide a value for `freq_filter`, such as `freq_filter=5`. This value determines the frequency cutoff. \n",
    "\n",
    "If you are NOT calculating MI or PMI scores, you do not need to run the cell below. "
   ]
  },
  {
   "cell_type": "code",
   "execution_count": null,
   "metadata": {},
   "outputs": [],
   "source": [
    "# Set frequency cutoff \n",
    "freq_filter = None\n",
    "display(HTML('<p style=\"color:green;\">You have set the <code>freq_filter</code> variable to <code>' + str(freq_filter) + '</code>.</p>'))"
   ]
  },
  {
   "cell_type": "markdown",
   "metadata": {},
   "source": [
    "## Perform Calculations"
   ]
  },
  {
   "cell_type": "code",
   "execution_count": null,
   "metadata": {},
   "outputs": [],
   "source": [
    "# Perform Calculations\n",
    "try:\n",
    "    ResultsTable, all_scores = collocation_metric(set_length, all_finders_list, metric, freq_filter=freq_filter)\n",
    "    display(HTML('<p style=\"color: green;\">Calculations complete. View results in the below cells.</p>'))\n",
    "except NameError:\n",
    "    display(HTML('<p style=\"color:red;\">You have not provided values for all required variables. Check sections 1-2 of this notebook.</p>'))"
   ]
  },
  {
   "cell_type": "markdown",
   "metadata": {},
   "source": [
    "### View Dataframe of Scores\n",
    "\n",
    "The below cell uses a <a href=\"https://github.com/quantopian/qgrid\" target=\"_blank\">QGrid</a> widget to display results in a dataframe, sorted from from highest to lowest. Click a column label to sort by that column. Click it again to reverse sort. Click the filter icon to the right of the column label to apply filters (for instance, reducing the table to only documents from specific sources). You can re-order the columns by dragging the column label."
   ]
  },
  {
   "cell_type": "code",
   "execution_count": null,
   "metadata": {},
   "outputs": [],
   "source": [
    "# Display dataframe\n",
    "qgrid_widget = qgrid.show_grid(ResultsTable, grid_options=grid_options, show_toolbar=False)\n",
    "\n",
    "qgrid_widget"
   ]
  },
  {
   "cell_type": "markdown",
   "metadata": {},
   "source": [
    "### Save Dataframe to CSV\n",
    "\n",
    "The cell below will save the version of the dataframe you see displayed in the cell above. To save the full version of the dataframe (disregarding any filtering, etc you have done in the qgrid dataframe), skip the next cell, uncomment the code in the cell below it, and run that cell. \n",
    "\n",
    "Either cell will create a csv file in this module directory called whatever you value you assign to the `csv_file` variable."
   ]
  },
  {
   "cell_type": "code",
   "execution_count": null,
   "metadata": {},
   "outputs": [],
   "source": [
    "# Configuree csv file name\n",
    "csv_file = ''\n",
    "\n",
    "# Save version of dataframe you see above to csv\n",
    "if csv != '':\n",
    "    changed_df = qgrid_widget.get_changed_df()\n",
    "    changed_df.to_csv(csv_file, index_label = 'Index')\n",
    "    display(HTML('<p style=\"color:green;\">Csv file called <code>' + csv_file + '</code> created.'))\n",
    "elif csv == '':\n",
    "    display(HTML('<p style=\"color:red;\">You have not provided a filename for the csv file.</p>'))"
   ]
  },
  {
   "cell_type": "code",
   "execution_count": null,
   "metadata": {},
   "outputs": [],
   "source": [
    "## onfigure csv file name\n",
    "# csv_file = ''\n",
    "\n",
    "## save the above dataframe to a csv file\n",
    "# if csv != '':\n",
    "#     LikelihoodTable.to_csv(csv_file, index_label = 'Index')\n",
    "#     display(HTML('<p style=\"color:green;\">Csv file called <code>' + csv_file + '</code> created.'))\n",
    "# elif csv == '':\n",
    "#     display(HTML('<p style=\"color:red;\">You have not provided a filename for the csv file.</p>'))"
   ]
  },
  {
   "cell_type": "markdown",
   "metadata": {},
   "source": [
    "### View Scores for a Specific Token and Save to CSV\n",
    "\n",
    "You can check to see what other tokens are highly associated with your chosen token across your project, according to your selected metric. Enter only a single word below; it does not work if you enter a bigram or a trigram. Enter that word below following the format `token = 'example'`."
   ]
  },
  {
   "cell_type": "code",
   "execution_count": null,
   "metadata": {},
   "outputs": [],
   "source": [
    "# Configure token\n",
    "token = ''\n",
    "\n",
    "if token == '' or token == None:\n",
    "    display(HTML('<p style=\"color:red;\">You have not selected a token.</p>'))\n",
    "else:\n",
    "    check = token.split(' ')\n",
    "    if len(check) > 1:\n",
    "        display(HTML('<p style=\"color:red;\">Your <code>token</code> can only be a unigram</code>.</p>'))\n",
    "    else:\n",
    "        display(HTML('<p style=\"color:green;\">You have set the <code>token</code> variable to <code>' + token + '</code>.</p>'))"
   ]
  },
  {
   "cell_type": "markdown",
   "metadata": {},
   "source": [
    "You may also choose to save this information to a csv file by changing the value of the `save_csv` variable to `True`.\n",
    "This will create a csv file in this module's directory called  whatever value you assign to the `csv_file` variable. If you do not wish to save a csv file set the value of the `csv_file` variable to `None`."
   ]
  },
  {
   "cell_type": "code",
   "execution_count": null,
   "metadata": {},
   "outputs": [],
   "source": [
    "# Select True or False\n",
    "save_csv = False\n",
    "# Give the csv_file a name or select None\n",
    "csv_file = None\n",
    "\n",
    "if save_csv == False and csv_file == None:\n",
    "    display(HTML('<p style=\"color:green;\">You have elected not to save a csv file.</p>'))\n",
    "elif save_csv == True and csv_file != None:\n",
    "    display(HTML('<p style=\"color:green;\">You have elected to save a csv file and have set <code>csv_file</code> to <code>' + str(csv_file) + '</code>.</p>'))\n",
    "elif save_csv == False and csv_file != None:\n",
    "    display(HTML('<p style=\"color:red;\">You have given the csv file a name but set <code>save_csv</code> to <code>' + str(save_csv) + '</code></p>'))\n",
    "elif save_csv == True and csv_file == None:\n",
    "     display(HTML('<p style=\"color:red;\">You have set <code>save_csv</code> to <code>' + str(save_csv) + '</code> but not provided a value for <code>csv_file</code>.</p>'))     "
   ]
  },
  {
   "cell_type": "markdown",
   "metadata": {},
   "source": [
    "Run the cell below to see other token or tokens (depending on if you have calculated bi- or trigram frequencies) your provided token occurs with throughout your project, and the scores for each grouping. If you have not elected to save results to csv they will print to cell output."
   ]
  },
  {
   "cell_type": "code",
   "execution_count": null,
   "metadata": {},
   "outputs": [],
   "source": [
    "# Get token_scores\n",
    "token_scores = order_collocation_scores(all_scores, token, save_csv, csv_file)\n",
    "\n",
    "if save_csv == True:\n",
    "    display(HTML('<p style=\"color:green;\">CSV file of results called <code>' + csv_file + '</code> created.'))\n",
    "elif token == '':\n",
    "    display(HTML('<p style=\"color:red;\">You have not selected a token.</p>'))\n",
    "else:\n",
    "    print(token_scores)"
   ]
  }
 ],
 "metadata": {
  "kernelspec": {
   "display_name": "Python 3",
   "language": "python",
   "name": "python3"
  },
  "language_info": {
   "codemirror_mode": {
    "name": "ipython",
    "version": 3
   },
   "file_extension": ".py",
   "mimetype": "text/x-python",
   "name": "python",
   "nbconvert_exporter": "python",
   "pygments_lexer": "ipython3",
   "version": "3.6.8"
  }
 },
 "nbformat": 4,
 "nbformat_minor": 2
}
