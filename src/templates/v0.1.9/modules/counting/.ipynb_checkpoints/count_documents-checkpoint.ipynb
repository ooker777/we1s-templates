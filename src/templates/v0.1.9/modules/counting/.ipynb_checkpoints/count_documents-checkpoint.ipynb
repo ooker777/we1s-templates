{
 "cells": [
  {
   "cell_type": "markdown",
   "metadata": {},
   "source": [
    "# Counting and Visualizing Document Totals by Year and Source within the Project\n",
    "\n",
    "### INFO\n",
    "\n",
    "__author__    = 'Lindsay Thomas'  \n",
    "__copyright__ = 'copyright 2019, The WE1S Project'  \n",
    "__license__   = 'MIT'  \n",
    "__version__   = '2.0'</p> \n",
    "__email__     = 'lindsaythomas@miami.edu'\n",
    "\n",
    "This notebook counts the number of documents per unique source per year in the project. It offers two different methods of counting, and is organized into numbered sections. Results may vary depending on which counting method you use. If you are using dfr-browser's metadata file to do your counting, you must have already produced a dfr-browser for your model. You can configure this setting in **Section 2**. \n",
    "\n",
    "The notebook also includes a few options for saving and visualizing these count totals.\n",
    "\n",
    "You must run every cell under the **Settings** section of this notebook first. Every time you return to this notebook, you must run these cells first."
   ]
  },
  {
   "cell_type": "markdown",
   "metadata": {},
   "source": [
    "## Settings"
   ]
  },
  {
   "cell_type": "code",
   "execution_count": null,
   "metadata": {},
   "outputs": [],
   "source": [
    "# Python imports\n",
    "import os\n",
    "import re\n",
    "from pathlib import Path\n",
    "from IPython.display import display, HTML\n",
    "\n",
    "# Define paths\n",
    "current_dir     = %pwd\n",
    "current_pathobj = Path(current_dir)\n",
    "project_dir     = str(current_pathobj.parent.parent)\n",
    "current_reldir  = current_dir.split(\"/write/\")[1]\n",
    "data_dir        = project_dir + '/project_data'\n",
    "json_dir        = project_dir + '/project_data/json'\n",
    "json_test       = project_dir + '/project_data/json_test'\n",
    "model_dir       = data_dir + '/models'\n",
    "md_file         = project_dir + '/project_data/metadata/metadata-dfrb.csv'\n",
    "\n",
    "# Import scripts\n",
    "%run scripts/count_docs.py\n",
    "\n",
    "# Helper script\n",
    "def clean_date_range(date_range):\n",
    "    \"\"\"Strip spaces from date ranges.\"\"\"\n",
    "    return re.sub('\\s+', '', date_range)\n",
    "\n",
    "# Display the project directory\n",
    "display(HTML('<p style=\"color: green;\">Setup complete.</p>'))"
   ]
  },
  {
   "cell_type": "markdown",
   "metadata": {},
   "source": [
    "## 1. Load an Existing Dataframe \n",
    "\n",
    "If you have already created and saved a dataframe using this notebook, you can load it for use in this notebook using the cells below. After loading your dataframe, you can skip to **Section 3**. If you need to create a counts dataframe, continue to **Section 2**. "
   ]
  },
  {
   "cell_type": "code",
   "execution_count": null,
   "metadata": {},
   "outputs": [],
   "source": [
    "# Define path of saved dataframe\n",
    "csv_file = ''"
   ]
  },
  {
   "cell_type": "code",
   "execution_count": null,
   "metadata": {},
   "outputs": [],
   "source": [
    "df = pd.read_csv(csv_file)"
   ]
  },
  {
   "cell_type": "markdown",
   "metadata": {},
   "source": [
    "## 2. Count Documents by Source and by Publication Year\n",
    "\n",
    "Make a dataframe with document totals for each unique source by year and download the results. You can obtain source information from EITHER dfr-browser's metadata file (you must have produced a dfr-browser in your project in order to use this method) OR the json documents in your project. Obtaining source information from dfr-browser's metadata file is generally quicker, particularly for large collections of data.\n",
    "\n",
    "Dates marked as 'unknown' are unknown. To discover the total number of documents listed as having an 'unknown' publication year, scroll down to section 4 of the notebook."
   ]
  },
  {
   "cell_type": "markdown",
   "metadata": {},
   "source": [
    "### Configuration\n",
    "\n",
    "Please select the way you would like to do the counting and specify the names of the `title` and `pub_date` fields in your data. To change how you would like to do the counting, change the value of the `mode` variable to `'dfr-browser'` or `'json'`, depending on which one you want. If you have imported your data using the WE1S import notebook, you do not need to change the values for the `title_field` or `date_field` variables (although if you are using WE1S data, see the next paragraph). Otherwise, change these values to the metadata fields where you would like the code to look for your publication titles and your publication dates. The values must be enclosed in quotation marks.\n",
    "\n",
    "**If you are working with WE1S data,** we recommend you use `title_field` = `'source'` for the most accurate count of unique sources (you can use either `'pub_date'` OR `'pub_year'` for the `date_field` variable)."
   ]
  },
  {
   "cell_type": "code",
   "execution_count": null,
   "metadata": {},
   "outputs": [],
   "source": [
    "## mode must be `dfr-browser` or `json`\n",
    "# mode = 'dfr-browser'\n",
    "mode = 'json'\n",
    "\n",
    "# Only change the below values if your title and publication dates\n",
    "# are located in fields with different names in your data.\n",
    "title_field = 'source'\n",
    "date_field = 'pub_date'\n",
    "\n",
    "display(HTML('<p style=\"color: green;\">Configuration complete.</p>'))"
   ]
  },
  {
   "cell_type": "markdown",
   "metadata": {},
   "source": [
    "### Create Dataframe of Counts for Sources and Dates"
   ]
  },
  {
   "cell_type": "code",
   "execution_count": null,
   "metadata": {},
   "outputs": [],
   "source": [
    "df = source_count_by_year(mode, md_file, json_dir, title_field, date_field)\n",
    "\n",
    "display(HTML('<p style=\"color: green;\">Dataframe created.</p>'))"
   ]
  },
  {
   "cell_type": "markdown",
   "metadata": {},
   "source": [
    "### View the Dataframe\n",
    "\n",
    "The cell below uses a <a href=\"https://github.com/quantopian/qgrid\" target=\"_blank\">QGrid</a> widget to display count results in a dataframe. Click a column label to sort by that column. Click it again to reverse sort. Click the filter icon to the right of the column label to apply filters (for instance, reducing the table to only documents from specific sources). You can re-order the columns by dragging the column label."
   ]
  },
  {
   "cell_type": "code",
   "execution_count": null,
   "metadata": {},
   "outputs": [],
   "source": [
    "# sort by highest totals, print in descending order\n",
    "df = df.sort_values('Total', ascending=False)\n",
    "\n",
    "qgrid_widget = qgrid.show_grid(df, grid_options=grid_options, show_toolbar=False)\n",
    "\n",
    "qgrid_widget"
   ]
  },
  {
   "cell_type": "markdown",
   "metadata": {},
   "source": [
    "### Save the Dataframe to a CSV File\n",
    "\n",
    "The cell below will save the version of the dataframe you see displayed in the cell above. To save the full version of the dataframe (disregarding any filtering, etc you have done in the QGrid dataframe), skip the next cell, uncomment the code in the cell below it, and run that cell. \n",
    "\n",
    "Either cell will create a csv file named `source_counts_by_year.csv` in this module directory which you can download and save to your computer for further processing and visualization (using Excel, Google sheets, etc)."
   ]
  },
  {
   "cell_type": "code",
   "execution_count": null,
   "metadata": {},
   "outputs": [],
   "source": [
    "# Save version of dataframe you see above to csv\n",
    "changed_df = qgrid_widget.get_changed_df()\n",
    "\n",
    "changed_df.to_csv('source_counts_by_year_delete.csv', index_label = 'Sources')\n",
    "display(HTML('<p style=\"color: green;\">CSV file saved.</p>'))"
   ]
  },
  {
   "cell_type": "code",
   "execution_count": null,
   "metadata": {},
   "outputs": [],
   "source": [
    "## Save original dataframe to csv, disregarding any changes you made in qgrid\n",
    "\n",
    "# df.to_csv('source_counts_by_year.csv', index_label = 'Sources')\n",
    "# display(HTML('<p style=\"color: green;\">CSV file saved.</p>'))"
   ]
  },
  {
   "cell_type": "markdown",
   "metadata": {},
   "source": [
    "## 3. Further Explore and Visualize Results\n",
    "\n",
    "You must have completed **Section 1** or **Section 2** to run the cells in this section."
   ]
  },
  {
   "cell_type": "markdown",
   "metadata": {},
   "source": [
    "### Create a Dataframe of the Top 10 Sources in Selected or a Range of Years\n",
    "\n",
    "In the cell below, configure a list of `years` in the form `['2014', '2015', '2017']`, or you can provide a date range by setting `date_range` to a hyphen-separated range like `'2014-2017'`. If you wish to use a list of years, rather than a date range, set `date_range = None`.\n",
    "\n",
    "Run the second cell below to view the dataframe. "
   ]
  },
  {
   "cell_type": "code",
   "execution_count": null,
   "metadata": {},
   "outputs": [],
   "source": [
    "# Configure selected years or a range of years\n",
    "# years = ['2014', '2015', '2017']\n",
    "date_range = '2014-2016' # Change to None if not using\n",
    "\n",
    "display(HTML('<p style=\"color: green;\">Dataframe configuration complete.</p>'))"
   ]
  },
  {
   "cell_type": "code",
   "execution_count": null,
   "metadata": {},
   "outputs": [],
   "source": [
    "# View the dataframe\n",
    "df_top10 = df.iloc[:10]\n",
    "\n",
    "if date_range:\n",
    "    date_range = clean_date_range(date_range)\n",
    "    df_top10 = df_top10.loc[:,date_range.split('-')[0]:date_range.split('-')[1]] \n",
    "else:\n",
    "    df_top10 = df_top10.loc[:,years]\n",
    "\n",
    "df_top10"
   ]
  },
  {
   "cell_type": "markdown",
   "metadata": {},
   "source": [
    "### Plot the Dataframe Using Subplots (Optional)\n",
    "\n",
    "This cell will display a separate plot for each unique source. To save the figure for downloading, uncomment the line `plt.savefig('top10.png')` (you can change the name of the output file if you like)."
   ]
  },
  {
   "cell_type": "code",
   "execution_count": null,
   "metadata": {},
   "outputs": [],
   "source": [
    "# Plot the above dataframe using subplots\n",
    "%matplotlib inline\n",
    "import matplotlib.pyplot as plt\n",
    "\n",
    "df_top10.transpose().plot(kind='bar', figsize=(15,10), subplots=True, title=['','','','','','','','','',''])\n",
    "\n",
    "# Save the plot\n",
    "# plt.savefig('top10.png')"
   ]
  },
  {
   "cell_type": "markdown",
   "metadata": {},
   "source": [
    "### Get the Number of Documents for a Source and the Number of Documents/Year for That Source\n",
    "\n",
    "In the cell below, provide the name of a publication source. The `source` value should be one of the sources listed in the first column of the dataframe you loaded in **Section 1** or created in **Section 2**.\n",
    "\n",
    "Configure a list of `years` in the form `['2014', '2015', '2017']`, or you can provide a date range by setting `date_range` to a hyphen-separated range like `'2014-2017'`. If you wish to use a list of years, rather than a date range, set `date_range = None`.\n",
    "\n",
    "Run the second cell below to create the dataframe and view the total number of documents found for the specified source within the specified dates."
   ]
  },
  {
   "cell_type": "code",
   "execution_count": null,
   "metadata": {},
   "outputs": [],
   "source": [
    "# Configure source and either selected years or a range of years\n",
    "source = ''\n",
    "# specific_years = ['2014','2016']\n",
    "date_range = '2014-2016' # Use something like '2014-1016' or set to None if not required\n",
    "\n",
    "display(HTML('<p style=\"color: green;\">Dataframe configuration complete.</p>'))"
   ]
  },
  {
   "cell_type": "code",
   "execution_count": null,
   "metadata": {},
   "outputs": [],
   "source": [
    "# View dataframe\n",
    "try:\n",
    "    df_total = df.loc[source, 'Total']\n",
    "    display(HTML('<p>Number of Documents for <code>' + source + '</code>: ' + str(df_total) + '</p>'))\n",
    "    if date_range:\n",
    "        df_singlesource = df.loc[source,date_range.split('-')[0]:date_range.split('-')[1]]\n",
    "    else:\n",
    "        df_singlesource = df.loc[source,specific_years]\n",
    "    pd.DataFrame(df_singlesource)\n",
    "except KeyError:\n",
    "     display(HTML('<p style=\"color:#FF0000\";>That source title does not exist in dataframe. Check `title_field` variable above.</p>'))"
   ]
  },
  {
   "cell_type": "markdown",
   "metadata": {},
   "source": [
    "### Plot the Number of Documents/Year for a Source (Optional)\n",
    "\n",
    "This cell will display a plot of the total number of documents per year for a given source. To save the figure for downloading, uncomment the line `plt.savefig('singlesource.png')` (you can change the name of the output file if you like)."
   ]
  },
  {
   "cell_type": "code",
   "execution_count": null,
   "metadata": {},
   "outputs": [],
   "source": [
    "# Plot the dataframe\n",
    "%matplotlib inline\n",
    "import matplotlib.pyplot as plt\n",
    "\n",
    "plot_title = 'Plot Title'\n",
    "# year1 = \n",
    "# year2 = \n",
    "\n",
    "df_singlesource.transpose().plot(kind='bar', color=(0.2, 0.4, 0.6, 0.6), title=plot_title)\n",
    "\n",
    "# Save the plot\n",
    "# plt.savefig('singlesource.png')"
   ]
  },
  {
   "cell_type": "markdown",
   "metadata": {},
   "source": [
    "### Count the Total Number of Documents for a Given Year or Years\n",
    "\n",
    "\n",
    "In the cell below, configure a list of `years` in the form `['2014', '2015', '2017']`, or you can provide a date range by setting `date_range` to a hyphen-separated range like `'2014-2017'`. If you wish to use a list of years, rather than a date range, set `date_range = None`.\n",
    "\n",
    "Run the second cell below to view the dataframe. "
   ]
  },
  {
   "cell_type": "code",
   "execution_count": null,
   "metadata": {},
   "outputs": [],
   "source": [
    "# Configure selected years or a range of years\n",
    "# specific_years = ['2014']\n",
    "date_range = '2014-2016' # Use something like '2014-1016' or set to None if not required\n",
    "\n",
    "display(HTML('<p style=\"color: green;\">Dataframe configuration complete.</p>'))"
   ]
  },
  {
   "cell_type": "code",
   "execution_count": null,
   "metadata": {},
   "outputs": [],
   "source": [
    "# View the dataframe\n",
    "if date_range:\n",
    "    date_range = clean_date_range(date_range)\n",
    "    year_total = df.loc[:,date_range.split('-')[0]:date_range.split('-')[1]].sum()\n",
    "else:\n",
    "    year_total = df.loc[:,specific_years].sum()\n",
    "\n",
    "pd.DataFrame(year_total, columns=['Total'])"
   ]
  },
  {
   "cell_type": "markdown",
   "metadata": {},
   "source": [
    "## 4. Count Total Number of Documents without a Publication Date"
   ]
  },
  {
   "cell_type": "markdown",
   "metadata": {},
   "source": [
    "### Count Number of Documents without a Publication Date\n",
    "\n",
    "This cell counts the number of documents without a publication date that appear in the dataframe created in **Section 1**."
   ]
  },
  {
   "cell_type": "code",
   "execution_count": null,
   "metadata": {},
   "outputs": [],
   "source": [
    "# Display documents without a publication date\n",
    "try:\n",
    "    count1 = df['1900'].sum()\n",
    "except KeyError as err:\n",
    "    count1 = 0\n",
    "try:\n",
    "    count2 = df['unknown'].sum()\n",
    "except KeyError as err:\n",
    "    count2 = 0\n",
    "try:\n",
    "    count3 = df['NaN'].sum()\n",
    "except KeyError as err:\n",
    "    count3 = 0\n",
    "\n",
    "display(HTML('<p>' + str(count1) + ' dates listed as <code>1900</code></p>'))\n",
    "display(HTML('<p>' + str(count2) + ' dates listed as <code>unknown</code></p>'))\n",
    "display(HTML('<p>' + str(count3) + ' dates listed as <code>NaN</code></p>'))"
   ]
  },
  {
   "cell_type": "markdown",
   "metadata": {},
   "source": [
    "## 5. Count Documents by Metadata Field\n",
    "\n",
    "You must have run all of the cells under **Settings** to run the code in this section.\n",
    "\n",
    "The code below counts the number of documents associated with a specific metadata field in your project. You must provide the field you want to count. The `json_utilities` module includes methods for retrieving lists of all of the metadata fields in your files. You can count the total number of documents with any value for a certain field, or you can count the number of documents that have a certain value within a certain field. The examples given below apply to WE1S data."
   ]
  },
  {
   "cell_type": "markdown",
   "metadata": {},
   "source": [
    "### Count the Number of Documents Associated with All Values for a Specific Field\n",
    "\n",
    "This cell allows you to count the total number of documents associated with all values for a specific field: for example, all of the documents associated with each value in the `tags` field. Configure the `tags` field in the cell below and then run the following cell."
   ]
  },
  {
   "cell_type": "code",
   "execution_count": null,
   "metadata": {},
   "outputs": [],
   "source": [
    "# Enter the name of the field you want to count here\n",
    "field = 'tags'\n",
    "\n",
    "display(HTML('<p style=\"color: green;\">Field configured.</p>'))"
   ]
  },
  {
   "cell_type": "code",
   "execution_count": null,
   "metadata": {},
   "outputs": [],
   "source": [
    "bad_jsons, no_field, df = docs_by_field(json_dir, field)\n",
    "warnings = []\n",
    "if len(bad_jsons) > 0:\n",
    "    warnings.apppend(str(len(bad_jsons)) + ' documents failed to load correctly and were not included in the count totals.')\n",
    "if len(no_field) > 0:\n",
    "    warnings.apppend(str(len(no_field)) + ' documents do not contain the selected field.')\n",
    "for msg in warnings:\n",
    "    display(HTML('<p style=\"color: red;\">' + msg + ' If the number is large, this will significantly affect your results.</p>'))\n",
    "display(HTML('<p style=\"color: green;\">Dataframe created. Run the cell below to view it.</p>'))"
   ]
  },
  {
   "cell_type": "markdown",
   "metadata": {},
   "source": [
    "### View the Dataframe\n",
    "\n",
    "The below cell uses a <a href=\"https://github.com/quantopian/qgrid\" target=\"_blank\">QGrid</a> widget to display count results in a dataframe. Click a column label to sort by that column. Click it again to reverse sort. Click the filter icon to the right of the column label to apply filters (for instance, reducing the table to only documents with a particular value in your chosen metadata field). You can re-order the columns by dragging the column label."
   ]
  },
  {
   "cell_type": "code",
   "execution_count": null,
   "metadata": {
    "scrolled": true
   },
   "outputs": [],
   "source": [
    "qgrid_widget = qgrid.show_grid(df, grid_options=grid_options, show_toolbar=False)\n",
    "qgrid_widget"
   ]
  },
  {
   "cell_type": "markdown",
   "metadata": {},
   "source": [
    "### Save the Dataframe to a CSV File\n",
    "\n",
    "The cell below will save the version of the dataframe you see displayed in the cell above. To save the full version of the dataframe (disregarding any filtering, etc you have done in the QGrid dataframe), skip the next cell, uncomment the code in the cell below it, and run that cell.\n",
    "\n",
    "Either cell will create a csv file named `YOURFIELD_counts.csv` in this module directory which you can download and save to your computer for further processing and visualization (using Excel, Google sheets, etc)."
   ]
  },
  {
   "cell_type": "code",
   "execution_count": null,
   "metadata": {},
   "outputs": [],
   "source": [
    "# Save dataframe to csv\n",
    "changed_df = qgrid_widget.get_changed_df()\n",
    "\n",
    "csv_file = field + '_counts.csv'\n",
    "\n",
    "changed_df.to_csv(csv_file, index_label = 'Index')\n",
    "display(HTML('<p style=\"color: green;\">Dataframe saved as <code>' + csv_file + '</code>.</p>'))"
   ]
  },
  {
   "cell_type": "code",
   "execution_count": null,
   "metadata": {},
   "outputs": [],
   "source": [
    "## Save original dataframe to csv, disregarding any changes you made in qgrid\n",
    "\n",
    "# csv_file = field + '_counts.csv'\n",
    "\n",
    "# df.to_csv('source_counts_by_year.csv', index_label = 'Sources')\n",
    "display(HTML('<p style=\"color: green;\">Dataframe saved as <code>' + csv_file + '</code>.</p>'))"
   ]
  },
  {
   "cell_type": "markdown",
   "metadata": {},
   "source": [
    "### Count the Number of Documents with a Specific Value for a Specific Field\n",
    "\n",
    "This cell counts the number of documents with a specific value for a specific field, for example, the number of documents tagged with 'education/funding/US private college' in your project. Configure the `field` and `target_value` variables below and then run the following cell to view the counts."
   ]
  },
  {
   "cell_type": "code",
   "execution_count": null,
   "metadata": {},
   "outputs": [],
   "source": [
    "# Configure the field and target value\n",
    "field = 'tags'\n",
    "target_value = 'education/funding/US private college'\n",
    "\n",
    "display(HTML('<p style=\"color: green;\">Field and target value configured.</p>'))"
   ]
  },
  {
   "cell_type": "code",
   "execution_count": null,
   "metadata": {},
   "outputs": [],
   "source": [
    "# View the counts\n",
    "value_count = specific_value_count(json_dir, field, target_value)\n",
    "\n",
    "display(HTML('<p>' + str(value_count) + '  documents with <code>' + target_value + '</code> value in project.</p>'))"
   ]
  },
  {
   "cell_type": "markdown",
   "metadata": {},
   "source": [
    "### Calculate the Proportion of Documents with a Specific Value for a Specific Field\n",
    "\n",
    "You can understand the number produced by the cell above in the context of the rest of the project by running the following code, which calculates the proportion of documents in your project that have your target value for your target field."
   ]
  },
  {
   "cell_type": "code",
   "execution_count": null,
   "metadata": {},
   "outputs": [],
   "source": [
    "json_dir_files = [file for file in os.listdir(json_dir) if file.endswith('.json')]\n",
    "json_length = len(json_dir_files)\n",
    "\n",
    "num_docs = str(json_length)\n",
    "num_matches = str(value_count)\n",
    "proportion = value_count/json_length\n",
    "proportion = str(proportion*100) + '%'\n",
    "\n",
    "out = num_matches + ' of ' + num_docs + ' documents (' + proportion + ') have the value <code>' + target_value + '</code> '\n",
    "out += 'for the field <code>' + field + '</code>.'\n",
    "display(HTML('<p>' + out + '</p>'))"
   ]
  }
 ],
 "metadata": {
  "kernelspec": {
   "display_name": "Python 3",
   "language": "python",
   "name": "python3"
  },
  "language_info": {
   "codemirror_mode": {
    "name": "ipython",
    "version": 3
   },
   "file_extension": ".py",
   "mimetype": "text/x-python",
   "name": "python",
   "nbconvert_exporter": "python",
   "pygments_lexer": "ipython3",
   "version": "3.6.8"
  }
 },
 "nbformat": 4,
 "nbformat_minor": 2
}
