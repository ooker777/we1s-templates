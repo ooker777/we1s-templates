{
 "cells": [
  {
   "cell_type": "markdown",
   "metadata": {},
   "source": [
    "# Export JSON to TXT + CSV\n",
    "\n",
    "The WE1S workflows use JSON format internally for manipulating data. However, you may wish to export JSON data from a project to plain text files with a CSV metadata file for use with other external tools.\n",
    "\n",
    "This notebook uses JSON project data to export a collection of plain txt files &mdash; one per JSON document &mdash; containing only the document contents field or bag of words. Each file is named with the name of the JSON document and a `.txt` extension.\n",
    "\n",
    "It also produces a `metadata.csv` file. This file contains a header and one row per document with the document filename plus required fields.\n",
    "\n",
    "Output from this notebook can be imported using the import module by copying the `txt.zip` and `metadata.csv` from `project_data/txt` to `project_data/import`. However, it is generally not recommended to export and then reimport data, as you may lose metadata in the process.\n",
    "\n",
    "\n",
    "## Info\n",
    "\n",
    "__authors__    = 'Jeremy Douglass, Scott Kleinman'  \n",
    "__copyright__ = 'copyright 2020, The WE1S Project'  \n",
    "__license__   = 'MIT'  \n",
    "__version__   = '2.6'  \n",
    "__email__     = 'jeremydouglass@gmail.com'\n"
   ]
  },
  {
   "cell_type": "markdown",
   "metadata": {},
   "source": [
    "## Setup\n",
    "\n",
    "This cell imports python modules and defines import file paths."
   ]
  },
  {
   "cell_type": "code",
   "execution_count": null,
   "metadata": {},
   "outputs": [],
   "source": [
    "# Python imports\n",
    "from pathlib import Path\n",
    "from IPython.display import display, HTML\n",
    "\n",
    "# Get path to project_dir\n",
    "current_dir            = %pwd\n",
    "project_dir            = str(Path(current_dir).parent.parent)\n",
    "json_dir               = project_dir + '/project_data/json'\n",
    "config_path            = project_dir + '/config/config.py'\n",
    "export_script_path     = 'scripts/json_to_txt_csv.py'\n",
    "# Import the project configuration and classes\n",
    "%run {config_path}\n",
    "%run {export_script_path}\n",
    "display(HTML('Ready!'))"
   ]
  },
  {
   "cell_type": "markdown",
   "metadata": {},
   "source": [
    "## Configuration\n",
    "\n",
    "The default configuration assumes:\n",
    "\n",
    "1. There are JSON files in `project_data/json`.\n",
    "2. Each JSON has the required fields `pub_date`, `title`, `author`.\n",
    "3. Each JSON file has either:\n",
    "   - a `content` field, or\n",
    "   - a `bag_of_words` field created using the `import` module tokenizer (see the \"Export Features Tables\" section below to export text from the `features` field).\n",
    "\n",
    "By default, the notebook will export to `project_data/txt`."
   ]
  },
  {
   "cell_type": "code",
   "execution_count": null,
   "metadata": {},
   "outputs": [],
   "source": [
    "limit = 10  # limit files exported -- 0 = unlimited.\n",
    "\n",
    "txt_dir  = project_dir + '/project_data/txt'\n",
    "metafile = project_dir + '/project_data/txt/metadata.csv'\n",
    "zipfile  = project_dir + '/project_data/txt/txt.zip'\n",
    "\n",
    "# The listed fields will be checked in order.\n",
    "# The first one encountered will be the export content.\n",
    "# Documents with no listed field will be excluded from export.\n",
    "txt_content_fields = ['content', 'bag_of_words']\n",
    "\n",
    "# The listed fields will be copied from json to metadata.csv columns\n",
    "csv_export_fields = ['pub_date', 'title', 'author']\n",
    "\n",
    "# Set to true to zip the exported text files and remove the originals \n",
    "zip_output = True\n",
    "\n",
    "# Delete any previous export contents in the `txt` directory, including `metadata` file and zip file\n",
    "clear_cache = True"
   ]
  },
  {
   "cell_type": "markdown",
   "metadata": {},
   "source": [
    "## Export\n",
    "\n",
    "Start the export."
   ]
  },
  {
   "cell_type": "code",
   "execution_count": null,
   "metadata": {},
   "outputs": [],
   "source": [
    "# Optionally, clear the cache\n",
    "if clear_cache:\n",
    "    clear_txt(txt_dir, metafile=metafile, zipfile=zipfile)\n",
    "    \n",
    "# Perform the export\n",
    "json_to_txt_csv(json_dir=json_dir,\n",
    "                txt_dir=txt_dir,\n",
    "                txt_content_fields=txt_content_fields,\n",
    "                csv_export_fields=csv_export_fields,\n",
    "                metafile=metafile,\n",
    "                limit=limit)\n",
    "\n",
    "# Inspect results\n",
    "report_results(txt_dir, metafile)\n",
    "\n",
    "# Optionally, zip the output\n",
    "if zip_output:\n",
    "    zip_txt(txt_dir=txt_dir, zipfile=zipfile)    "
   ]
  },
  {
   "cell_type": "markdown",
   "metadata": {},
   "source": [
    "## Export Features Tables\n",
    "\n",
    "If your data contains features tables (lists of lists containing linguistic features), use the cell below to export features tables as CSV files for each document in your JSON folder. Set the `save_path` to a directory where you wish to save the CSV files. If you are using WE1S public data, this may apply to you."
   ]
  },
  {
   "cell_type": "code",
   "execution_count": null,
   "metadata": {},
   "outputs": [],
   "source": [
    "# Configuration\n",
    "save_path = ''\n",
    "\n",
    "# Run the export\n",
    "export_features_tables(save_path, json_dir)"
   ]
  }
 ],
 "metadata": {
  "kernelspec": {
   "display_name": "Python 3",
   "language": "python",
   "name": "python3"
  },
  "language_info": {
   "codemirror_mode": {
    "name": "ipython",
    "version": 3
   },
   "file_extension": ".py",
   "mimetype": "text/x-python",
   "name": "python",
   "nbconvert_exporter": "python",
   "pygments_lexer": "ipython3",
   "version": "3.6.8"
  }
 },
 "nbformat": 4,
 "nbformat_minor": 2
}
