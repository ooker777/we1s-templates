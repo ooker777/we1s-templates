{
 "cells": [
  {
   "cell_type": "markdown",
   "metadata": {},
   "source": [
    "# Export Project\n",
    "\n",
    "This notebook creates an `ExportPackage` object which can be used to create a `.tar.gz` archive of an entire project folder or extract an already packaged archive to a destination folder.\n",
    "\n",
    "\n",
    "## Info\n",
    "\n",
    "__authors__    = 'Scott Kleinman'  \n",
    "__copyright__ = 'copyright 2020, The WE1S Project'  \n",
    "__license__   = 'GPL'  \n",
    "__version__   = '1.0'  \n",
    "__email__     = 'scott.kleinman@csun.edu'\n"
   ]
  },
  {
   "cell_type": "markdown",
   "metadata": {},
   "source": [
    "## Setup"
   ]
  },
  {
   "cell_type": "code",
   "execution_count": null,
   "metadata": {},
   "outputs": [],
   "source": [
    "# Python imports\n",
    "from pathlib import Path\n",
    "from IPython.display import display, HTML\n",
    "\n",
    "# Get path to project_dir and import the scripts\n",
    "current_dir            = %pwd\n",
    "project_dir            = str(Path(current_dir).parent.parent)\n",
    "json_dir               = project_dir + '/project_data/json'\n",
    "%run scripts/export_package.py\n",
    "display(HTML('Ready!'))"
   ]
  },
  {
   "cell_type": "markdown",
   "metadata": {},
   "source": [
    "## Configuration\n",
    "\n",
    "The configuration variables provide information about the project being archived. Whilst the `name` and `author` will often be the same as the project name and project contributor(s), they are assumed to refer to the archived form of the object. For the version number, we recomment using <a href=\"https://semver.org/\" target=\"_blank\">semantic versioning</a>.\n",
    "\n",
    "If you wish to exclude folders from the export (such as the `project_data` folder), list the paths to the folders in the `exclude` setting. The paths should be relative to the project folder without a leading '/'.\n",
    "\n",
    "Once the project has been archived, its file location may (optionally) be stored in MongoDB. If you are working with MongoDB, include your database configuration in the **MongoDB Configuration** section; otherwise, leave these configurations set to `None`."
   ]
  },
  {
   "cell_type": "code",
   "execution_count": 3,
   "metadata": {},
   "outputs": [],
   "source": [
    "# Configuration\n",
    "name        = '' # The name of the project archive\n",
    "author      = '' # The name of the author of the archive\n",
    "version     = '' # The version number\n",
    "save_path   = '' # The filepath where the archive will be save (including filename)\n",
    "exclude     = [] # List of folder paths to ignore\n",
    "\n",
    "# MongoDB Configuration\n",
    "client                       = None\n",
    "database                     = None\n",
    "collection                   = None"
   ]
  },
  {
   "cell_type": "markdown",
   "metadata": {},
   "source": [
    "## Build Data Package\n",
    "\n",
    "This cell instantiates the `ExportPackage` object and builds a <a href=\"https://frictionlessdata.io/\" target=\"_blank\">Frictionless Data</a> data package detailing the project's resources. If the project directory contains a `datapackage.json` and/or `README.md`, a datetime stamp will be added; otherwise, these files will be created.\n",
    "\n",
    "Once the data package is built, it is possible to access it with `export_package.datapackage`, and the `README` text can be accessed with `export_package.readme`."
   ]
  },
  {
   "cell_type": "code",
   "execution_count": null,
   "metadata": {},
   "outputs": [],
   "source": [
    "export_package = ExportPackage(name=name, author=author, version=version)\n",
    "export_package.build_datapackage(project_dir, exclude=exclude)"
   ]
  },
  {
   "cell_type": "markdown",
   "metadata": {},
   "source": [
    "## Make Archive\n",
    "\n",
    "This cell creates the archive file."
   ]
  },
  {
   "cell_type": "code",
   "execution_count": null,
   "metadata": {},
   "outputs": [],
   "source": [
    "export_package.make_archive(project_dir, save_path, client=client, db=database, collection=collection)"
   ]
  },
  {
   "cell_type": "markdown",
   "metadata": {},
   "source": [
    "## Extract Archive\n",
    "\n",
    "This section can be used to extract an existing project archive to a project folder. By default, the archive file copied to the project folder (not the original one) will be deleted after it is extracted. If you wish to retain it, set `remove_archive=False`."
   ]
  },
  {
   "cell_type": "code",
   "execution_count": null,
   "metadata": {},
   "outputs": [],
   "source": [
    "# Configuration\n",
    "archive_file     = '' # The path the project archive file\n",
    "destination_dir  = '' # The path to the project folder\n",
    "remove_archive   = True"
   ]
  },
  {
   "cell_type": "code",
   "execution_count": null,
   "metadata": {},
   "outputs": [],
   "source": [
    "export_package = ExportPackage()\n",
    "export_package.extract(archive_file, destination_dir, remove_archive=remove_archive)"
   ]
  }
 ],
 "metadata": {
  "kernelspec": {
   "display_name": "Python 3",
   "language": "python",
   "name": "python3"
  },
  "language_info": {
   "codemirror_mode": {
    "name": "ipython",
    "version": 3
   },
   "file_extension": ".py",
   "mimetype": "text/x-python",
   "name": "python",
   "nbconvert_exporter": "python",
   "pygments_lexer": "ipython3",
   "version": "3.6.8"
  }
 },
 "nbformat": 4,
 "nbformat_minor": 2
}
