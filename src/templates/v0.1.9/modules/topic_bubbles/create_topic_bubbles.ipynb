{
 "cells": [
  {
   "cell_type": "markdown",
   "metadata": {},
   "source": [
    "# Create Topic Bubbles Visualization\n",
    "\n",
    "This notebook will create a Topic Bubbles visualization from Dfr-browser data generated in the `dfr_browser` module or from model data generated using the `topic_modeling` module. A full user guide is available for this notebook in the module's <a href=\"README.md\" target=\"_blank\">README</a> file. This notebook uses code originally written by Sihwa Park for his Topic Bubbles visualization. See <a href=\"https://github.com/sihwapark/topic-bubbles\" target=\"_blank\">Park's original code</a> for documentation.\n",
    "\n",
    "## Info\n",
    "\n",
    "__authors__    = 'Sihwa Park, Jeremy Douglass, Scott Kleinman, Lindsay Thomas'  \n",
    "__copyright__ = 'copyright 2019, The WE1S Project'  \n",
    "__license__   = 'GPL'  \n",
    "__version__   = '2.0'  \n",
    "__email__     = 'lindsaythomas@miami.edu'"
   ]
  },
  {
   "cell_type": "markdown",
   "metadata": {},
   "source": [
    "## Settings\n",
    "\n",
    "Every time you open this notebook, you must run the below cell before running anything else."
   ]
  },
  {
   "cell_type": "code",
   "execution_count": null,
   "metadata": {},
   "outputs": [],
   "source": [
    "# Python imports\n",
    "import os\n",
    "import json\n",
    "from IPython.display import display, HTML\n",
    "from pathlib import Path\n",
    "\n",
    "# Define paths\n",
    "current_dir                = %pwd\n",
    "project_dir                = str(Path(current_dir).parent.parent)\n",
    "tb_scripts_dir             = current_dir + '/tb_scripts'\n",
    "dfrbrowser_dir             = project_dir + '/modules/dfr_browser'\n",
    "prepare_data_script        = dfrbrowser_dir + '/dfrb_scripts/bin/prepare-data'\n",
    "data_dir                   = project_dir + '/project_data'\n",
    "model_dir                  = data_dir + '/models'\n",
    "json_dir                   = project_dir + '/project_data/json'\n",
    "metadata_dir               = data_dir + '/metadata'\n",
    "metadata_csv_file          = metadata_dir + '/metadata-dfrb.csv'\n",
    "metadata_file_reorder      = metadata_dir + '/metadata-dfrb.csv'\n",
    "browser_meta_file_temp     = metadata_dir + '/meta.temp.csv'\n",
    "browser_meta_file          = metadata_dir + '/meta.csv'\n",
    "\n",
    "# Create data/config.json, which tells topic bubbles where to find json docs\n",
    "tb_config_data             = { 'json_cache_path': '../../../project_data/' }\n",
    "tb_config_path             = current_dir + '/tb_scripts/data/config.json'\n",
    "with open(tb_config_path, 'w') as outfile:\n",
    "    json.dump(tb_config_data, outfile)\n",
    "\n",
    "# Load required scripts\n",
    "%run {project_dir}/config/config.py\n",
    "%run scripts/create_topic_bubbles.py\n",
    "%run scripts/create_dfrbrowser.py\n",
    "\n",
    "# Display the project directory\n",
    "display(HTML('<p style=\"color: green;\">Setup complete.</p>'))"
   ]
  },
  {
   "cell_type": "markdown",
   "metadata": {},
   "source": [
    "## Create Topic Bubbles Using Dfr-Browser Metadata\n",
    "\n",
    "If you ran the `dfr-browser` module to create dfr-browser visualizations for your models, the next cells will import data produced via that module into the `topic_bubbles` module.\n",
    "\n",
    "If you did not run the `dfr_browser` module, skip to the next section: **Create Topic Bubbles without Dfr-Browser Metadata**.\n",
    "\n",
    "By default, this notebook is set to create Topic Bubbles visualizations the same models you produced Dfr-browsers for in the `dfr_browser` module. This means that the `selection` variable below is set to its default value of `All` (`selection = 'All'`). If you would like to select only certain models to produce Topic Bubbles visualizations, make those selections in the next cell. Otherwise leave the value in the next cell set to `All`.\n",
    "\n",
    "**To produce topic bubbles for a selection of models:** Navigate to the `modules/dfr_browser` directory and look for subdirectories titled `topicsn1`, where `n1` is the number of topics you chose to model. You should see a subdirectory for each browser you produced. To choose which subdirectory/ies you would like to produce, change the value of `selection` in the cell below to a list of subdirectory names. For example, if you wanted to produce browsers for only the 50- and 75-topic models you created, change the value of `selection` below to `selection = ['topics50', 'topics75']`.\n",
    "\n",
    "### Select Models for Which You Would Like to Create Visualizations\n",
    "\n",
    "You must run this cell regardless of whether you change anything."
   ]
  },
  {
   "cell_type": "code",
   "execution_count": null,
   "metadata": {},
   "outputs": [],
   "source": [
    "# Configure Model Selection\n",
    "selection = 'All' # Or e.g. ['topics50', 'topics75']\n",
    "\n",
    "display(HTML('<p style=\"color: green;\"> Visualization selection configured.</p>'))"
   ]
  },
  {
   "cell_type": "markdown",
   "metadata": {},
   "source": [
    "Get names of model subdirectories to visualize and their state files. Create topic bubbles visualizations for selected models."
   ]
  },
  {
   "cell_type": "code",
   "execution_count": null,
   "metadata": {},
   "outputs": [],
   "source": [
    "# Create the visualizations\n",
    "subdir_list = create_topicbubbles_dfrbrowser(selection, current_dir, dfrbrowser_dir, tb_scripts_dir)\n",
    "\n",
    "# Display links to the visualizations\n",
    "display_links(project_dir, subdir_list, WRITE_DIR, PORT)"
   ]
  },
  {
   "cell_type": "markdown",
   "metadata": {},
   "source": [
    "## Create Topic Bubbles without Dfr-Browser Metadata\n",
    "\n",
    "If you have not yet created Dfr-browsers for this project, run the following cells to create your Topic Bubbles visualization.\n",
    "\n",
    "### Create Metadata Files from JSON Files\n",
    "\n",
    "The Topic Bubbles visualization relies on data files produced for Andrew Goldstone's dfr-browser (see the `dfr_browser` module). The cells in this section will create the Dfr-Browser files necessary to produce Topic Bubbles visualizations. \n",
    "\n",
    "The below cell opens up each file in your project's `json` directory and grabs required metadata information to produce the `metadata_csv_file` file and `browser_meta_file_temp` files. The cell prints output from Goldstone's `prepare_data.py` script to the notebook cell.\n",
    "\n",
    "<p style=\"color:red;\">Important: Running this code will delete old metadata files and create an entirely new <code>metadata</code> folder within <code>project_data</code> directory.</p>"
   ]
  },
  {
   "cell_type": "code",
   "execution_count": null,
   "metadata": {},
   "outputs": [],
   "source": [
    "dfrb_metadata(metadata_dir, metadata_csv_file, browser_meta_file_temp, browser_meta_file, json_dir)"
   ]
  },
  {
   "cell_type": "markdown",
   "metadata": {},
   "source": [
    "## Create Files Needed for Topic Bubbles\n",
    "\n",
    "By default, this notebook is set to create Topic Bubbles visualizations the same models you produced Dfr-browsers for in the `dfr_browser` module. This means that the `selection` variable below is set to its default value of `All` (`selection = 'All'`). If you would like to select only certain models to produce Topic Bubbles visualizations, make those selections in the next cell. Otherwise leave the value in the next cell set to `All`\n",
    "\n",
    "**To produce topic bubbles for a selection of models:** Navigate to the `modules/dfr_browser` directory and look for subdirectories titled `topicsn1`, where `n1` is the number of topics you chose to model. You should see a subdirectory for each browser you produced. To choose which subdirectory/ies you would like to produce, change the value of `selection` in the cell below to a list of subdirectory names. For example, if you wanted to produce browsers for only the 50- and 75-topic models you created, change the value of `selection` below to `selection = ['topics50', 'topics75']`.\n",
    "\n",
    "### Select Models for Which You Would Like to Create Visualizations\n",
    "\n",
    "You must run this cell regardless of whether you change anything."
   ]
  },
  {
   "cell_type": "code",
   "execution_count": null,
   "metadata": {},
   "outputs": [],
   "source": [
    "# Configure Model Selection\n",
    "selection = 'All' # Or e.g. ['topics50', 'topics75']\n",
    "\n",
    "display(HTML('<p style=\"color: green;\"> Visualization selection configured.</p>'))"
   ]
  },
  {
   "cell_type": "markdown",
   "metadata": {},
   "source": [
    "Get names of model subdirectories to visualize and their state and scaled files. You can set values for `subdir_list`, `state_file_list`, and `scaled_file_list` manually in the cell below the next one."
   ]
  },
  {
   "cell_type": "code",
   "execution_count": null,
   "metadata": {},
   "outputs": [],
   "source": [
    "subdir_list, state_file_list, scaled_file_list = get_model_state(selection, model_dir)"
   ]
  },
  {
   "cell_type": "markdown",
   "metadata": {},
   "source": [
    "Optionally, set values manually (this cell does not need to be run if you have run the previous cell)."
   ]
  },
  {
   "cell_type": "code",
   "execution_count": null,
   "metadata": {},
   "outputs": [],
   "source": [
    "# subdir_list = []\n",
    "# state_file_list = []\n",
    "# scaled_file_list = []"
   ]
  },
  {
   "cell_type": "markdown",
   "metadata": {},
   "source": [
    "Create and move files needed for topic bubbles, using model state and scaled files for all selected models. Prints output from Goldstone's `prepare_data.py` script to the notebook cell."
   ]
  },
  {
   "cell_type": "code",
   "execution_count": null,
   "metadata": {},
   "outputs": [],
   "source": [
    "# Create the visualizations\n",
    "create_topic_bubbles(subdir_list, state_file_list, scaled_file_list, current_dir, tb_scripts_dir, \n",
    "                     prepare_data_script, browser_meta_file)\n",
    "\n",
    "# Display links to the visualizations\n",
    "display_links(project_dir, subdir_list, WRITE_DIR, PORT)"
   ]
  },
  {
   "cell_type": "markdown",
   "metadata": {},
   "source": [
    "## Create Zipped Copies of Your Visualizations (Optional)\n",
    "\n",
    "By default, visualizations for all available models will be zipped. If you wish to zip only one model, change the `models` setting to indicate the name of the model folder (e.g. `'topics25'`). If you wish to zip more than one model, but not all, provide a list in square brackets (e.g. `['topics25', 'topics50']`)."
   ]
  },
  {
   "cell_type": "code",
   "execution_count": null,
   "metadata": {},
   "outputs": [],
   "source": [
    "# Configuration\n",
    "models = 'All' # You can also select models with vaues like 'topics25' or ['topics25', 'topics50']\n",
    "\n",
    "# Zip the models\n",
    "%run scripts/zip.py\n",
    "zip(models)"
   ]
  }
 ],
 "metadata": {
  "kernelspec": {
   "display_name": "Python 3",
   "language": "python",
   "name": "python3"
  },
  "language_info": {
   "codemirror_mode": {
    "name": "ipython",
    "version": 3
   },
   "file_extension": ".py",
   "mimetype": "text/x-python",
   "name": "python",
   "nbconvert_exporter": "python",
   "pygments_lexer": "ipython3",
   "version": "3.6.8"
  }
 },
 "nbformat": 4,
 "nbformat_minor": 2
}
