{
 "cells": [
  {
   "cell_type": "markdown",
   "metadata": {},
   "source": [
    "# Clear Caches\n",
    "\n",
    "This notebook provides various methods of clearing data and notebooks. Users may perform the following actions:\n",
    "\n",
    "1. Delete a list of files.\n",
    "2. Empty or delete a list of folders.\n",
    "3. Empty the `project_data` folder.\n",
    "4. Clear the outputs and metadata for a list of notebooks.\n",
    "5. Clear data and/or notebook outputs and metadata from module folders based on a list of modules (or all modules).\n",
    "6. Reset the project, emptying the `project_data` folder, clearing data from module folders, and resetting all notebooks.\n",
    "\n",
    "<p style=\"color: red;\"><strong>Important!</strong> This notebook deletes data from your project and should be used with caution. Do not run all the cells at once. Select only the cell you need to perform one of the specific tasks above.</p>"
   ]
  },
  {
   "cell_type": "markdown",
   "metadata": {},
   "source": [
    "## INFO\n",
    "\n",
    "__authors__    = 'Scott Kleinman'  \n",
    "__copyright__ = 'copyright 2021, The WE1S Project'  \n",
    "__license__   = 'MIT'  \n",
    "__version__   = '1.0'  \n",
    "__email__     = 'scottkleinman@csun.edu'"
   ]
  },
  {
   "cell_type": "markdown",
   "metadata": {},
   "source": [
    "## Setup"
   ]
  },
  {
   "cell_type": "code",
   "execution_count": null,
   "metadata": {},
   "outputs": [],
   "source": [
    "%run scripts/clear_caches.py\n",
    "        \n",
    "display(HTML('<p style=\"color: green\">Ready! Your project directory is <code>' + project_dir + '</code>.</p>'))"
   ]
  },
  {
   "cell_type": "markdown",
   "metadata": {},
   "source": [
    "## Delete a List of Files\n",
    "\n",
    "This cell deletes a list of specific files, which can be anywhere inside your project directory. File paths must be relative to the project directory."
   ]
  },
  {
   "cell_type": "code",
   "execution_count": null,
   "metadata": {},
   "outputs": [],
   "source": [
    "# Configuration\n",
    "file_list = []\n",
    "\n",
    "# Delete the files\n",
    "delete_files(project_dir, file_list)"
   ]
  },
  {
   "cell_type": "markdown",
   "metadata": {},
   "source": [
    "## Empty or Delete a List of Folders\n",
    "\n",
    "This cell empties or deletes a list of specific folders, which can be anywhere inside your project directory. Paths to folders must be relative to the project directory. By default, folders are simply emptied of their content. If you would like to delete the folders as well, set `delete_folders=True`."
   ]
  },
  {
   "cell_type": "code",
   "execution_count": null,
   "metadata": {},
   "outputs": [],
   "source": [
    "# Configuration\n",
    "folder_list     = []\n",
    "delete_folders  = False\n",
    "\n",
    "# Delete the folders\n",
    "clear_folders(project_dir, folder_list, delete_folders=delete_folders)"
   ]
  },
  {
   "cell_type": "markdown",
   "metadata": {},
   "source": [
    "## Empty the `project_data` Folder\n",
    "\n",
    "This cell empties the entire `project_data` folder and does not require any configuration."
   ]
  },
  {
   "cell_type": "code",
   "execution_count": null,
   "metadata": {},
   "outputs": [],
   "source": [
    "clear_project_data(project_datadir)"
   ]
  },
  {
   "cell_type": "markdown",
   "metadata": {},
   "source": [
    "## Clear the Outputs and Metadata for a List of Notebooks\n",
    "\n",
    "This cell clears the outputs and metadata for each notebook in a list of notebooks, effectively resetting them as if they had not been run previously. File paths to the notebooks must be relative to the project directory."
   ]
  },
  {
   "cell_type": "code",
   "execution_count": null,
   "metadata": {},
   "outputs": [],
   "source": [
    "# Configuration\n",
    "notebook_list = []\n",
    "\n",
    "# Reset the notebooks\n",
    "clear_notebooks(project_dir, notebook_list)"
   ]
  },
  {
   "cell_type": "markdown",
   "metadata": {},
   "source": [
    "## Clear Data and/or Notebook Outputs and Metadata by Module\n",
    "\n",
    "This cell accepts a list of modules, resets the notebooks in those modules, and deletes any generated file outputs. If `module_list` is set to `None`, all modules will be cleared. If `clear_notebooks` is set to `False`, only the files will be deleted."
   ]
  },
  {
   "cell_type": "code",
   "execution_count": null,
   "metadata": {},
   "outputs": [],
   "source": [
    "# Configuration\n",
    "module_list      = []\n",
    "clear_notebooks  = True\n",
    "\n",
    "# Delete the files\n",
    "clear_module_folders(project_dir, module_list, clear_notebooks)"
   ]
  },
  {
   "cell_type": "markdown",
   "metadata": {},
   "source": [
    "## Reset the Project\n",
    "\n",
    "This cell empties the `project_data`, deletes any generated file outputs from the module folders, and resets all notebooks. It effectively returns the project to a virgin state, although a few generated files outside the `project_data` and `modules` folders may remain."
   ]
  },
  {
   "cell_type": "code",
   "execution_count": null,
   "metadata": {},
   "outputs": [],
   "source": [
    "reset_project(project_dir, project_datadir)"
   ]
  }
 ],
 "metadata": {
  "kernelspec": {
   "display_name": "Python 3",
   "language": "python",
   "name": "python3"
  },
  "language_info": {
   "codemirror_mode": {
    "name": "ipython",
    "version": 3
   },
   "file_extension": ".py",
   "mimetype": "text/x-python",
   "name": "python",
   "nbconvert_exporter": "python",
   "pygments_lexer": "ipython3",
   "version": "3.6.8"
  }
 },
 "nbformat": 4,
 "nbformat_minor": 2
}
