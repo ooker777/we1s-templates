{
 "cells": [
  {
   "cell_type": "markdown",
   "metadata": {},
   "source": [
    "# Zip Folder\n",
    "\n",
    "Use this notebook to create a compressed archive of any folder in the project (or the entire project). The ouput can either be a  'zip' or a 'tar.gz' archive. The latter preserves file permissions, which is necessary for some visualizations to work when the archive is extracted. If you are only compressing data, you can use the 'zip' format."
   ]
  },
  {
   "cell_type": "markdown",
   "metadata": {},
   "source": [
    "## Setup"
   ]
  },
  {
   "cell_type": "code",
   "execution_count": null,
   "metadata": {},
   "outputs": [],
   "source": [
    "# Python imports\n",
    "import glob\n",
    "import os\n",
    "import shutil\n",
    "import tarfile\n",
    "from IPython.display import display, HTML\n",
    "\n",
    "# Archive function\n",
    "def make_archive(source, destination):\n",
    "    if destination.endswith('tar.gz'):\n",
    "        with tarfile.open(output_filepath,'w:gz') as tar:\n",
    "            for file in glob.glob(source_directory):\n",
    "                tar.add(file)\n",
    "    else:\n",
    "        base = os.path.basename(destination)\n",
    "        name = base.split('.')[0]\n",
    "        format = base.split('.')[1]\n",
    "        archive_from = os.path.dirname(source)\n",
    "        archive_to = os.path.basename(source.strip(os.sep))\n",
    "        shutil.make_archive(name, format, archive_from, archive_to)\n",
    "        shutil.move('%s.%s'%(name,format), destination)"
   ]
  },
  {
   "cell_type": "markdown",
   "metadata": {},
   "source": [
    "## Configuration\n",
    "\n",
    "The `source_directory` is the file path to the directory you wish to compress.\n",
    "The `output_filepath` is the path to the compressed output file, including the filename (e.g. 'myfolder.zip').\n",
    "\n",
    "By default, your output file will be a 'zip' archive (it should end with `.zip`). If you use the file extensions `tar.gz`, the compressed output file will be saved in the 'tar.gz' format instead."
   ]
  },
  {
   "cell_type": "code",
   "execution_count": null,
   "metadata": {},
   "outputs": [],
   "source": [
    "source_directory     = '' # Path to directory to compress\n",
    "output_filepath      = '' # Path to archive file to save, including the filename"
   ]
  },
  {
   "cell_type": "markdown",
   "metadata": {},
   "source": [
    "## Zip the Folder\n",
    "\n",
    "Run the cell below to create the compressed archive file."
   ]
  },
  {
   "cell_type": "code",
   "execution_count": null,
   "metadata": {},
   "outputs": [],
   "source": [
    "# make_archive(source_directory, output_filepath)\n",
    "try:\n",
    "    make_archive(source_directory, output_filepath)\n",
    "    display(HTML('<p style=\"color: green;\">The zip archive was saved to ' + output_filepath + '.</p>'))\n",
    "except IOError:\n",
    "    display(HTML('<p style=\"color: red;\">An unknown error occurred. The zip file could not be saved.</p>'))"
   ]
  }
 ],
 "metadata": {
  "kernelspec": {
   "display_name": "Python 3",
   "language": "python",
   "name": "python3"
  },
  "language_info": {
   "codemirror_mode": {
    "name": "ipython",
    "version": 3
   },
   "file_extension": ".py",
   "mimetype": "text/x-python",
   "name": "python",
   "nbconvert_exporter": "python",
   "pygments_lexer": "ipython3",
   "version": "3.6.8"
  }
 },
 "nbformat": 4,
 "nbformat_minor": 2
}
