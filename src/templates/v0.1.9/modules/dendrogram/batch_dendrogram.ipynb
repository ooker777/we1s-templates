{
 "cells": [
  {
   "cell_type": "markdown",
   "metadata": {},
   "source": [
    "# Batch Create Dendrograms\n",
    "\n",
    "This notebook allows you to perform hierarchical cluster analysis on multiple models with multiple clustering options. The output is an HTML index file which allows you to display the generated cluster analyses as dendrograms.\n",
    "\n",
    "The last (optional) cell in this notebook allows you to generate standalone HTML files for a list of already-generated dendrograms. "
   ]
  },
  {
   "cell_type": "markdown",
   "metadata": {},
   "source": [
    "## Setup"
   ]
  },
  {
   "cell_type": "code",
   "execution_count": null,
   "metadata": {},
   "outputs": [],
   "source": [
    "# Python imports\n",
    "import os\n",
    "from pathlib import Path\n",
    "from IPython.display import display, HTML\n",
    "\n",
    "# Define paths\n",
    "current_dir                    = %pwd\n",
    "project_dir                    = str(Path(current_dir).parent.parent)\n",
    "project_dirname                = project_dir.split('/')[-1]\n",
    "current_reldir                 = current_dir.split(\"/write/\")[1]\n",
    "model_dir                      = project_dir + '/' + 'project_data/models'\n",
    "partials_path                  = os.path.join(current_dir, 'partials')\n",
    "scripts_path                   = 'scripts/batch_cluster.py'\n",
    "config_path                    =  project_dir + '/config/config.py'\n",
    "\n",
    "# Import scripts\n",
    "%run {config_path}\n",
    "%run {scripts_path}\n",
    "\n",
    "display(HTML('<p style=\"color: green;\">Setup complete.</p>'))"
   ]
  },
  {
   "cell_type": "markdown",
   "metadata": {},
   "source": [
    "## Configuration\n",
    "\n",
    "Provide a list of all models you wish to cluster and the distance metrics and linkage methods you wish to apply to each of the models.\n",
    "\n",
    "Set `models = []` if you wish to cluster all the models available in our project. Otherwise, provide a list of the folder names for each model you wish to cluster.\n",
    "\n",
    "Available distance metrics are 'euclidean' and 'cosine'.\n",
    "\n",
    "Available linkage methods are 'average', 'single', 'complete', and 'ward'.\n",
    "\n",
    "Note that a number of advanced configuration options are available. These are detailed in the <a href=\"README.md\" target=\"_blank\">README</a> file. If you wish to use advanced configurations, add them directly to the `BatchCluster()` call in the **Cluster** cell."
   ]
  },
  {
   "cell_type": "code",
   "execution_count": null,
   "metadata": {},
   "outputs": [],
   "source": [
    "# Configuration\n",
    "models              = [] # E.g. ['topics25', 'topics50']  \n",
    "distance_metrics    = [] # E.g. ['euclidean']\n",
    "linkage_methods     = ['average', 'single', 'complete', 'ward']\n",
    "orientation         ='bottom' # Can be changed to 'top', 'left', or 'right'\n",
    "height              = 600 # In pixels\n",
    "width               = 1200 # In pixels\n",
    "\n",
    "display(HTML('<p style=\"color: green;\">Configuration complete.</p>'))"
   ]
  },
  {
   "cell_type": "markdown",
   "metadata": {},
   "source": [
    "## Cluster\n",
    "\n",
    "Begin the cluster analysis by running the cell below."
   ]
  },
  {
   "cell_type": "code",
   "execution_count": null,
   "metadata": {},
   "outputs": [],
   "source": [
    "# Run the batch cluster\n",
    "batch_cluster = BatchCluster(models, project_dir, model_dir, partials_path, distance_metrics, linkage_methods,\n",
    "                             orientation=orientation, height=height, width=width, WRITE_DIR=WRITE_DIR, PORT=PORT)"
   ]
  },
  {
   "cell_type": "markdown",
   "metadata": {},
   "source": [
    "## Create Standalone Dendrograms (Optional)\n",
    "\n",
    "Run the cell below if you wish to create standalone versions of any of the dendrograms you have already created. They will be saved into your project's Dendgrogram module folder. The dendrograms can be downloaded and will work locally, as long as you have an internet connection."
   ]
  },
  {
   "cell_type": "markdown",
   "metadata": {},
   "source": [
    "### Configuration\n",
    "\n",
    "Choose dendrograms to create (e.g. `topics50-euclidean-average`). By default, the dendrogram files will begin with \"standalone_\". You can modify this by changing the `prefix` variable below. If you do not wish to have a prefix, change it to `None`."
   ]
  },
  {
   "cell_type": "code",
   "execution_count": null,
   "metadata": {},
   "outputs": [],
   "source": [
    "# Configuration\n",
    "dendrograms = [] # E.g. ['topics25-euclidean-average', 'topics50-euclidean-average']\n",
    "prefix      = 'standalone_'\n",
    "\n",
    "display(HTML('<p style=\"color: green;\">Configuration complete.</p>'))"
   ]
  },
  {
   "cell_type": "markdown",
   "metadata": {},
   "source": [
    "### Create the Dendrogram(s)"
   ]
  },
  {
   "cell_type": "code",
   "execution_count": null,
   "metadata": {},
   "outputs": [],
   "source": [
    "# Python imports\n",
    "import os\n",
    "from pathlib import Path\n",
    "\n",
    "# Define paths\n",
    "current_dir                    = %pwd\n",
    "project_dir                    = str(Path(current_dir).parent.parent)\n",
    "model_dir                      = project_dir + '/' + 'project_data/models'\n",
    "scripts_path                   = 'scripts/standalone.py'\n",
    "\n",
    "# Import scripts\n",
    "%run {scripts_path}\n",
    "\n",
    "# Generate the dendrogram(s)\n",
    "create_standalone(dendrograms, partials_path, model_dir, file_prefix=prefix)"
   ]
  }
 ],
 "metadata": {
  "kernelspec": {
   "display_name": "Python 3",
   "language": "python",
   "name": "python3"
  },
  "language_info": {
   "codemirror_mode": {
    "name": "ipython",
    "version": 3
   },
   "file_extension": ".py",
   "mimetype": "text/x-python",
   "name": "python",
   "nbconvert_exporter": "python",
   "pygments_lexer": "ipython3",
   "version": "3.6.8"
  }
 },
 "nbformat": 4,
 "nbformat_minor": 2
}
