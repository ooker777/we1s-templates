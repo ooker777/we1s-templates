{
 "cells": [
  {
   "cell_type": "markdown",
   "metadata": {},
   "source": [
    "# Create Dfr-Browser\n",
    "\n",
    "This notebook provides an interface to code that creates dfr-browsers for models generated in the `topic_modeling` module. A full user guide is available for this notebook in the module's <a href=\"README.md\" target=\"_blank\">README</a> file. This notebook uses code originally written by Andrew Goldstone for this Dfr-browser visualization. See <a href=\"https://github.com/agoldst/dfr-browser\" target=\"_blank\">https://github.com/agoldst/dfr-browser</a> for Goldstone's original code and documentation.\n",
    "\n",
    "### Info\n",
    "\n",
    "__authors__    = 'Jeremy Douglass, Scott Kleinman, Lindsay Thomas'  \n",
    "__copyright__ = 'copyright 2019, The WE1S Project'  \n",
    "__license__   = 'GPL'  \n",
    "__version__   = '2.0'  \n",
    "__email__     = 'lindsaythomas@miami.edu'"
   ]
  },
  {
   "cell_type": "markdown",
   "metadata": {},
   "source": [
    "## Settings\n",
    "\n",
    "Every time you open this notebook, you must run the below cell before running anything else."
   ]
  },
  {
   "cell_type": "code",
   "execution_count": null,
   "metadata": {},
   "outputs": [],
   "source": [
    "# Python imports\n",
    "import os\n",
    "from pathlib import Path\n",
    "from IPython.display import display, HTML\n",
    "\n",
    "# Define paths\n",
    "current_dir            = %pwd\n",
    "project_dir            = str(Path(current_dir).parent.parent)\n",
    "current_reldir         = current_dir.split(\"/write/\")[1]\n",
    "data_dir               = project_dir + '/project_data'\n",
    "json_dir               = project_dir + '/project_data/json'\n",
    "model_dir              = data_dir + '/models'\n",
    "metadata_dir           = data_dir + '/metadata'\n",
    "metadata_csv_file      = metadata_dir + '/metadata-dfrb.csv'\n",
    "metadata_file_reorder  = metadata_dir + '/metadata-dfrb.csv'\n",
    "browser_meta_file_temp = metadata_dir + '/meta.temp.csv'\n",
    "browser_meta_file      = metadata_dir + '/meta.csv'\n",
    "browsers_dir           = current_dir + '/browsers'\n",
    "project_name           = project_dir.split('/')[-1]\n",
    "tmp                    = data_dir.split(project_name)\n",
    "project_data_rel       = 'projects/' + tmp[0].split('/')[-2] + '/' + project_name + '/project_data/'\n",
    "\n",
    "# Load required scripts\n",
    "%run {project_dir}/config/config.py\n",
    "%run scripts/create_dfrbrowser.py\n",
    "\n",
    "# Feedback message\n",
    "display(HTML('<p style=\"color: green;\">Setup complete.</p>'))"
   ]
  },
  {
   "cell_type": "markdown",
   "metadata": {},
   "source": [
    "## Create Dfr-Browser Metadata Files from JSON Files\n",
    "\n",
    "This cell opens up each json in your project's json directory and grabs the metadata information dfr-browser needs. It creates both the `metadata_csv_file` file and the `browser_meta_file_temp` file."
   ]
  },
  {
   "cell_type": "code",
   "execution_count": null,
   "metadata": {},
   "outputs": [],
   "source": [
    "## Running this code will delete old metadata files and create new metadata folder within project_data directory\n",
    "\n",
    "dfrb_metadata(metadata_dir, metadata_csv_file, browser_meta_file_temp, browser_meta_file, json_dir)"
   ]
  },
  {
   "cell_type": "markdown",
   "metadata": {},
   "source": [
    "## Create Files Needed for Dfr-Browser\n",
    "\n",
    "### Select Models to Create Visualisations\n",
    "\n",
    "**Please run the next cell regardless of whether you change anything.**\n",
    "\n",
    "By default, this notebook is set to create Dfr-browsers for all of the models you produced using the `topic_modeling` module. If you would like to select only certain models to produce Dfr-browsers for, make those selections in the next cell (see next paragraph). Otherwise leave the value in the next cell set to `All`, which is the default. \n",
    "\n",
    "**To produce browsers for a selection of the models you created, but not all:** Navigate to the `your_project_name/project_data/models` directory in your project. Note the name of each subdirectory in that folder. Each subdirectory should be called `topicsn1`, where `n1` is the number of topics you chose to model. You should see a subdirectory for each model you produced. To choose which subdirectory/ies you would like to produce browsers for, change the value of `selection` in the cell below to a list of subdirectory names. For example, if you wanted to produce browsers for only the 50- and 75-topic models you created, change the value of `selection` below to `selection = ['topics50','topics75']`."
   ]
  },
  {
   "cell_type": "code",
   "execution_count": null,
   "metadata": {},
   "outputs": [],
   "source": [
    "selection = 'All' # E.g. ['topics50','topics75']"
   ]
  },
  {
   "cell_type": "markdown",
   "metadata": {},
   "source": [
    "Get names of model subdirectories to visualize and their state and scaled files. You can set values for `subdir_list`, `state_file_list`, and `scaled_file_list` manually in the cell below the next one."
   ]
  },
  {
   "cell_type": "code",
   "execution_count": null,
   "metadata": {},
   "outputs": [],
   "source": [
    "subdir_list, state_file_list, scaled_file_list = get_model_state(selection, model_dir)"
   ]
  },
  {
   "cell_type": "markdown",
   "metadata": {},
   "source": [
    "Optionally, set values manually (this cell does not need to be run if you have run the previous cell)."
   ]
  },
  {
   "cell_type": "code",
   "execution_count": null,
   "metadata": {},
   "outputs": [],
   "source": [
    "# subdir_list = []\n",
    "# state_file_list = []\n",
    "# scaled_file_list = []"
   ]
  },
  {
   "cell_type": "markdown",
   "metadata": {},
   "source": [
    "Create and move files needed for dfr-browser, using model state and scaled files for all selected models. The cell prints output from Goldstone's `prepare_data.py` script to the notebook cell."
   ]
  },
  {
   "cell_type": "code",
   "execution_count": null,
   "metadata": {},
   "outputs": [],
   "source": [
    "create_dfrbrowser(subdir_list, state_file_list, scaled_file_list, browser_meta_file, project_data_rel, current_dir, project_dir)\n",
    "\n",
    "# Display links to the visualizations\n",
    "display_links(project_dir, subdir_list, WRITE_DIR, PORT)"
   ]
  },
  {
   "cell_type": "markdown",
   "metadata": {},
   "source": [
    "## Create Zipped Copies of Your Visualizations (Optional)\n",
    "\n",
    "By default, browsers for all available models will be zipped. If you wish to zip only one model, change the `models` setting to indicate the name of the model folder (e.g. `'topics25'`). If you wish to zip more than one model, but not all, provide a list in square brackets (e.g. `['topics25', 'topics50']`)."
   ]
  },
  {
   "cell_type": "code",
   "execution_count": null,
   "metadata": {},
   "outputs": [],
   "source": [
    "# Configuration\n",
    "models = 'All' # You can also select models with vaues like 'topics25' or ['topics25', 'topics50']\n",
    "\n",
    "# Zip the models\n",
    "%run scripts/zip.py\n",
    "zip(models)"
   ]
  }
 ],
 "metadata": {
  "kernelspec": {
   "display_name": "Python 3",
   "language": "python",
   "name": "python3"
  },
  "language_info": {
   "codemirror_mode": {
    "name": "ipython",
    "version": 3
   },
   "file_extension": ".py",
   "mimetype": "text/x-python",
   "name": "python",
   "nbconvert_exporter": "python",
   "pygments_lexer": "ipython3",
   "version": "3.6.8"
  }
 },
 "nbformat": 4,
 "nbformat_minor": 2
}
