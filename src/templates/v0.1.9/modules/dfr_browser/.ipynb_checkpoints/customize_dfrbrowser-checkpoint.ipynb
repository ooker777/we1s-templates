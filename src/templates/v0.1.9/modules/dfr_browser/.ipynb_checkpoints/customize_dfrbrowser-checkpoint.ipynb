{
 "cells": [
  {
   "cell_type": "markdown",
   "metadata": {},
   "source": [
    "# Customize Dfr-Browser"
   ]
  },
  {
   "cell_type": "markdown",
   "metadata": {},
   "source": [
    "This notebook will customize a dfr-browser created using the `create_dfrbrowser` notebook. You can only customize one dfr-browser at a time. For configuration options, see the \"Configuration\" cell below."
   ]
  },
  {
   "cell_type": "markdown",
   "metadata": {},
   "source": [
    "### Info\n",
    "\n",
    "__authors__    = 'Scott Kleinman, Lindsay Thomas'  \n",
    "__copyright__ = 'copyright 2019, The WE1S Project'  \n",
    "__license__   = 'GPL'  \n",
    "__version__   = '2.0'  \n",
    "__email__     = 'scottkleinman@gmail.com'"
   ]
  },
  {
   "cell_type": "markdown",
   "metadata": {},
   "source": [
    "## Settings"
   ]
  },
  {
   "cell_type": "code",
   "execution_count": null,
   "metadata": {},
   "outputs": [],
   "source": [
    "# Python imports\n",
    "import datetime\n",
    "import json\n",
    "import os\n",
    "import re\n",
    "from pathlib import Path\n",
    "from IPython.display import display, HTML\n",
    "\n",
    "# Define paths\n",
    "current_dir     = %pwd\n",
    "project_dir     = str(Path(current_dir).parent.parent)\n",
    "name            = os.path.basename(os.path.normpath(project_dir))\n",
    "created         = datetime.datetime.today().strftime('%Y-%m-%d')\n",
    "\n",
    "# Display the project directory\n",
    "display(HTML('<p style=\"color: green;\">Setup complete.</p>'))"
   ]
  },
  {
   "cell_type": "markdown",
   "metadata": {},
   "source": [
    "## Dfr-Browser Settings\n",
    "\n",
    "You may only customize one dfr-browser at a time. Select the dfr-browser you want to customize in the cell below. \n",
    "\n",
    "To select your browser, navigate to your `modules/dfr_browser` inside your project directory. There, you should see directories called `topicsn1`, `topics2`, etc, where `n` is the number of topics you modeled. You should see one browser folder for each browser you produced in the `create_dfrbrowser` notebook. Assign the directory name of the browser you want to customize to the `selection` variable in the cell below. For example, if you wanted to customize a browser called `topics10`, your `selection` variable would look like this:\n",
    "\n",
    "`selection = 'topics10'`\n",
    "\n",
    "Please follow this format exactly."
   ]
  },
  {
   "cell_type": "code",
   "execution_count": null,
   "metadata": {},
   "outputs": [],
   "source": [
    "selection = '' # E.g. 'topics100'"
   ]
  },
  {
   "cell_type": "markdown",
   "metadata": {},
   "source": [
    "Find paths to `info.json` and `dfb.min.js` files"
   ]
  },
  {
   "cell_type": "code",
   "execution_count": null,
   "metadata": {},
   "outputs": [],
   "source": [
    "info_file = current_dir + '/' + selection + '/data/info.json'"
   ]
  },
  {
   "cell_type": "markdown",
   "metadata": {},
   "source": [
    "## Configuration\n",
    "\n",
    "Change the `set_` variable to `True` for any option you wish to configure in the below cell."
   ]
  },
  {
   "cell_type": "code",
   "execution_count": null,
   "metadata": {},
   "outputs": [],
   "source": [
    "# A title for the browser. More than 30 characters may not display well.\n",
    "set_title       = False\n",
    "title           = '' # E.g. 'The Guardian'\n",
    "\n",
    "# Provide information about each contributor as shown below. Only the 'title' property is \n",
    "# required. If there is one contributor, the second set of properties between {} can be\n",
    "# deleted. Further sets of properties can be added if there are more contributors.\n",
    "set_contributors = False\n",
    "contributors     = [\n",
    "    {\n",
    "        'title': 'Name of first contributor',\n",
    "        'email': 'Email of first contributor'\n",
    "    },\n",
    "    {\n",
    "        'title': 'Name of second contributor',\n",
    "        'email': 'Email of second contributor'\n",
    "    }    \n",
    "]\n",
    "\n",
    "# A description of the topic model. Must be formatted in HTML between the sets of three\n",
    "# quotation marks.\n",
    "set_meta_info    = False\n",
    "meta_info        = \"\"\"<h2>About this Model</h2>\"\"\"\n",
    "\n",
    "# A list of custom metadata fields to be displayed in dfr-browser document citations.\n",
    "set_custom_metadata_fields = False\n",
    "custom_metadata_fields     = []\n",
    "\n",
    "# The number of words to display in topic bubbles. Font sizes 5px to 11px will fit 8 words.\n",
    "set_num_top_words = False\n",
    "num_top_words     = 5\n",
    "\n",
    "# The font size range of the words in the topic bubbles.\n",
    "set_size_range    = False\n",
    "size_range        = [6, 14]\n",
    "\n",
    "# The font size for topic labels shown when you mouse over a topic bubble. The default is 18.\n",
    "set_name_size    = False\n",
    "name_size        = 14\n",
    "\n",
    "# The number of documents displayed in Topic View. The default is 20.\n",
    "set_num_docs     = False\n",
    "num_docs         = 30\n",
    "\n",
    "# Replace the labels below with your own in the format shown. If you omit a label, it will be\n",
    "# given a topic number. In other words, you don't have to label every topic.\n",
    "# Note: Some labels may not fit in the topic bubbles. Labels look best if they contain short\n",
    "# words separated by spaces. \"Planes, Trains, and Automobiles\" is an example of a label that\n",
    "# will fit within the available space.\n",
    "set_topic_labels   = False\n",
    "topic_labels       = {\n",
    "  '1': 'LABEL1',\n",
    "  '2': 'LABEL2',\n",
    "  '3': 'LABEL3'\n",
    "}\n",
    "# Ensure that topic labels have prefixed numbers\n",
    "for key, value in topic_labels.items():\n",
    "    topic_labels[key] = key + ': ' + re.sub('[0-9]+:\\s+', '', value)"
   ]
  },
  {
   "cell_type": "markdown",
   "metadata": {},
   "source": [
    "## Run\n",
    "\n",
    "Modify the Dfr-browser's `info.json file`."
   ]
  },
  {
   "cell_type": "code",
   "execution_count": null,
   "metadata": {},
   "outputs": [],
   "source": [
    "# Read the default info.json file\n",
    "try:\n",
    "    with open(info_file, 'r') as f:\n",
    "        info = json.loads(f.read())\n",
    "except:\n",
    "    print('Could not open the info.json file. Please make sure that the file exists and that the path configuration is correct.')\n",
    "\n",
    "# Convert Markdown to HTML\n",
    "\n",
    "# Add custom properties\n",
    "try:\n",
    "    info = {}\n",
    "    info['VIS'] = {\n",
    "        'condition': {\n",
    "            'spec': {\n",
    "                'field': 'date',\n",
    "                'n': 1,\n",
    "                'unit': 'year'\n",
    "            },\n",
    "            'type': 'time'\n",
    "        }\n",
    "    }\n",
    "    if set_title == True:\n",
    "        info['title'] = title\n",
    "    if set_contributors == True:\n",
    "        info['contributors'] = contributors\n",
    "    if set_meta_info == True:\n",
    "        info['meta_info'] = meta_info\n",
    "    if set_custom_metadata_fields == True:\n",
    "        info['VIS']['metadata'] = {'spec': {'extra_fields': custom_metadata_fields}}\n",
    "    if set_num_top_words == True:\n",
    "        if 'model_view' not in info['VIS']:\n",
    "            info['VIS']['model_view'] = {}\n",
    "        if 'plot' not in info['VIS']['model_view']:\n",
    "            info['VIS']['model_view']['plot'] = {}\n",
    "        info['VIS']['model_view']['plot']['words'] = num_top_words\n",
    "    if set_size_range == True:\n",
    "        if 'model_view' not in info['VIS']:\n",
    "            info['VIS']['model_view'] = {}\n",
    "        if 'plot' not in info['VIS']['model_view']:\n",
    "            info['VIS']['model_view']['plot'] = {}\n",
    "        info['VIS']['model_view']['plot']['size_range'] = size_range\n",
    "    if set_name_size == True:\n",
    "        if 'model_view' not in info['VIS']:\n",
    "            info['VIS']['model_view'] = {}\n",
    "        if 'plot' not in info['VIS']['model_view']:\n",
    "            info['VIS']['model_view']['plot'] = {}\n",
    "        info['VIS']['model_view']['plot']['name_size'] = name_size\n",
    "    if set_num_docs == True:\n",
    "        if 'topic_view' not in info['VIS']:\n",
    "            info['VIS']['topic_view'] = {}\n",
    "        info['VIS']['topic_view']['docs'] = num_docs\n",
    "    if set_topic_labels == True:\n",
    "        info['topic_labels'] = topic_labels\n",
    "except:\n",
    "    display(HTML('<p style=\"color: red;\">Could not modify the data. Please check that the formatting of your configuration values is correct.</p>'))\n",
    "\n",
    "try:\n",
    "    info['description'] = meta_info\n",
    "    info['name'] = name\n",
    "    info['created'] = 'created'\n",
    "    info['contributors'] = contributors\n",
    "except:\n",
    "    display(HTML('<p style=\"color: red;\">Could not modify the data. Please check that you have run both the Settings and Configuration cells without errors.</p>'))\n",
    "\n",
    "# Save the modified info.json file\n",
    "try:\n",
    "    with open(info_file, 'w') as f:\n",
    "        f.write(json.dumps(info, indent=2, sort_keys=False))\n",
    "        display(HTML('<p style=\"color: green;\">Done! The new <a href=\"' + info_file + '\" target=\"_blank\">info.json</a> file is shown below. Reload your topic model browser to see the changes.</p>'))\n",
    "        print('\\n-----------\\n')\n",
    "        # Print the info.json file\n",
    "        print(json.dumps(info, indent=2, sort_keys=False))\n",
    "except:\n",
    "    display(HTML('<p style=\"color: red;\">Could not save the modifications to info.json. There may have been a formatting error or change to the file path.</p>'))"
   ]
  }
 ],
 "metadata": {
  "kernelspec": {
   "display_name": "Python 3",
   "language": "python",
   "name": "python3"
  },
  "language_info": {
   "codemirror_mode": {
    "name": "ipython",
    "version": 3
   },
   "file_extension": ".py",
   "mimetype": "text/x-python",
   "name": "python",
   "nbconvert_exporter": "python",
   "pygments_lexer": "ipython3",
   "version": "3.6.8"
  }
 },
 "nbformat": 4,
 "nbformat_minor": 2
}
